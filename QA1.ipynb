{
 "cells": [
  {
   "cell_type": "code",
   "execution_count": 4,
   "metadata": {},
   "outputs": [
    {
     "data": {
      "text/plain": [
       "DatasetDict({\n",
       "    train: Dataset({\n",
       "        features: ['id', 'title', 'context', 'question', 'answers'],\n",
       "        num_rows: 87599\n",
       "    })\n",
       "    validation: Dataset({\n",
       "        features: ['id', 'title', 'context', 'question', 'answers'],\n",
       "        num_rows: 10570\n",
       "    })\n",
       "})"
      ]
     },
     "execution_count": 4,
     "metadata": {},
     "output_type": "execute_result"
    }
   ],
   "source": [
    "from datasets import load_dataset\n",
    "raw_datasets = load_dataset(\"squad\")\n",
    "raw_datasets\n"
   ]
  },
  {
   "cell_type": "code",
   "execution_count": 5,
   "metadata": {},
   "outputs": [
    {
     "data": {
      "text/plain": [
       "datasets.dataset_dict.DatasetDict"
      ]
     },
     "execution_count": 5,
     "metadata": {},
     "output_type": "execute_result"
    }
   ],
   "source": [
    "type(raw_datasets)"
   ]
  },
  {
   "cell_type": "code",
   "execution_count": 6,
   "metadata": {},
   "outputs": [
    {
     "data": {
      "text/plain": [
       "Dataset({\n",
       "    features: ['id', 'title', 'context', 'question', 'answers'],\n",
       "    num_rows: 87599\n",
       "})"
      ]
     },
     "execution_count": 6,
     "metadata": {},
     "output_type": "execute_result"
    }
   ],
   "source": [
    "raw_datasets[\"train\"]"
   ]
  },
  {
   "cell_type": "code",
   "execution_count": 7,
   "metadata": {},
   "outputs": [
    {
     "data": {
      "text/plain": [
       "datasets.arrow_dataset.Dataset"
      ]
     },
     "execution_count": 7,
     "metadata": {},
     "output_type": "execute_result"
    }
   ],
   "source": [
    "type(raw_datasets[\"train\"])"
   ]
  },
  {
   "cell_type": "code",
   "execution_count": 8,
   "metadata": {},
   "outputs": [
    {
     "name": "stdout",
     "output_type": "stream",
     "text": [
      "Dataset({\n",
      "    features: ['id', 'title', 'context', 'question', 'answers'],\n",
      "    num_rows: 87599\n",
      "})\n"
     ]
    }
   ],
   "source": [
    "print(raw_datasets.get(\"train\"))"
   ]
  },
  {
   "cell_type": "code",
   "execution_count": 9,
   "metadata": {},
   "outputs": [
    {
     "data": {
      "text/plain": [
       "{'id': '5733be284776f41900661182',\n",
       " 'title': 'University_of_Notre_Dame',\n",
       " 'context': 'Architecturally, the school has a Catholic character. Atop the Main Building\\'s gold dome is a golden statue of the Virgin Mary. Immediately in front of the Main Building and facing it, is a copper statue of Christ with arms upraised with the legend \"Venite Ad Me Omnes\". Next to the Main Building is the Basilica of the Sacred Heart. Immediately behind the basilica is the Grotto, a Marian place of prayer and reflection. It is a replica of the grotto at Lourdes, France where the Virgin Mary reputedly appeared to Saint Bernadette Soubirous in 1858. At the end of the main drive (and in a direct line that connects through 3 statues and the Gold Dome), is a simple, modern stone statue of Mary.',\n",
       " 'question': 'To whom did the Virgin Mary allegedly appear in 1858 in Lourdes France?',\n",
       " 'answers': {'text': ['Saint Bernadette Soubirous'], 'answer_start': [515]}}"
      ]
     },
     "execution_count": 9,
     "metadata": {},
     "output_type": "execute_result"
    }
   ],
   "source": [
    "raw_datasets[\"train\"][0]"
   ]
  },
  {
   "cell_type": "code",
   "execution_count": 10,
   "metadata": {},
   "outputs": [
    {
     "data": {
      "text/plain": [
       "datasets.arrow_dataset.Dataset"
      ]
     },
     "execution_count": 10,
     "metadata": {},
     "output_type": "execute_result"
    }
   ],
   "source": [
    "type(raw_datasets[\"train\"])"
   ]
  },
  {
   "cell_type": "code",
   "execution_count": 11,
   "metadata": {},
   "outputs": [
    {
     "data": {
      "text/plain": [
       "{'id': '5733be284776f4190066117f',\n",
       " 'title': 'University_of_Notre_Dame',\n",
       " 'context': 'Architecturally, the school has a Catholic character. Atop the Main Building\\'s gold dome is a golden statue of the Virgin Mary. Immediately in front of the Main Building and facing it, is a copper statue of Christ with arms upraised with the legend \"Venite Ad Me Omnes\". Next to the Main Building is the Basilica of the Sacred Heart. Immediately behind the basilica is the Grotto, a Marian place of prayer and reflection. It is a replica of the grotto at Lourdes, France where the Virgin Mary reputedly appeared to Saint Bernadette Soubirous in 1858. At the end of the main drive (and in a direct line that connects through 3 statues and the Gold Dome), is a simple, modern stone statue of Mary.',\n",
       " 'question': 'What is in front of the Notre Dame Main Building?',\n",
       " 'answers': {'text': ['a copper statue of Christ'], 'answer_start': [188]}}"
      ]
     },
     "execution_count": 11,
     "metadata": {},
     "output_type": "execute_result"
    }
   ],
   "source": [
    "raw_datasets[\"train\"][1]"
   ]
  },
  {
   "cell_type": "code",
   "execution_count": 12,
   "metadata": {},
   "outputs": [
    {
     "data": {
      "text/plain": [
       "{'id': '5733be284776f41900661180',\n",
       " 'title': 'University_of_Notre_Dame',\n",
       " 'context': 'Architecturally, the school has a Catholic character. Atop the Main Building\\'s gold dome is a golden statue of the Virgin Mary. Immediately in front of the Main Building and facing it, is a copper statue of Christ with arms upraised with the legend \"Venite Ad Me Omnes\". Next to the Main Building is the Basilica of the Sacred Heart. Immediately behind the basilica is the Grotto, a Marian place of prayer and reflection. It is a replica of the grotto at Lourdes, France where the Virgin Mary reputedly appeared to Saint Bernadette Soubirous in 1858. At the end of the main drive (and in a direct line that connects through 3 statues and the Gold Dome), is a simple, modern stone statue of Mary.',\n",
       " 'question': 'The Basilica of the Sacred heart at Notre Dame is beside to which structure?',\n",
       " 'answers': {'text': ['the Main Building'], 'answer_start': [279]}}"
      ]
     },
     "execution_count": 12,
     "metadata": {},
     "output_type": "execute_result"
    }
   ],
   "source": [
    "raw_datasets[\"train\"][2]"
   ]
  },
  {
   "cell_type": "code",
   "execution_count": 13,
   "metadata": {},
   "outputs": [
    {
     "data": {
      "text/plain": [
       "{'text': ['the Main Building'], 'answer_start': [279]}"
      ]
     },
     "execution_count": 13,
     "metadata": {},
     "output_type": "execute_result"
    }
   ],
   "source": [
    "raw_datasets[\"train\"][2][\"answers\"]"
   ]
  },
  {
   "cell_type": "code",
   "execution_count": 14,
   "metadata": {},
   "outputs": [
    {
     "data": {
      "text/plain": [
       "'University_of_Notre_Dame'"
      ]
     },
     "execution_count": 14,
     "metadata": {},
     "output_type": "execute_result"
    }
   ],
   "source": [
    "raw_datasets[\"train\"][1][\"title\"]"
   ]
  },
  {
   "cell_type": "code",
   "execution_count": 15,
   "metadata": {},
   "outputs": [
    {
     "data": {
      "text/plain": [
       "'Architecturally, the school has a Catholic character. Atop the Main Building\\'s gold dome is a golden statue of the Virgin Mary. Immediately in front of the Main Building and facing it, is a copper statue of Christ with arms upraised with the legend \"Venite Ad Me Omnes\". Next to the Main Building is the Basilica of the Sacred Heart. Immediately behind the basilica is the Grotto, a Marian place of prayer and reflection. It is a replica of the grotto at Lourdes, France where the Virgin Mary reputedly appeared to Saint Bernadette Soubirous in 1858. At the end of the main drive (and in a direct line that connects through 3 statues and the Gold Dome), is a simple, modern stone statue of Mary.'"
      ]
     },
     "execution_count": 15,
     "metadata": {},
     "output_type": "execute_result"
    }
   ],
   "source": [
    "raw_datasets[\"train\"][1][\"context\"]"
   ]
  },
  {
   "cell_type": "code",
   "execution_count": 16,
   "metadata": {},
   "outputs": [
    {
     "data": {
      "text/plain": [
       "'What is in front of the Notre Dame Main Building?'"
      ]
     },
     "execution_count": 16,
     "metadata": {},
     "output_type": "execute_result"
    }
   ],
   "source": [
    "raw_datasets[\"train\"][1][\"question\"]"
   ]
  },
  {
   "cell_type": "code",
   "execution_count": 17,
   "metadata": {},
   "outputs": [
    {
     "data": {
      "text/plain": [
       "{'text': ['a copper statue of Christ'], 'answer_start': [188]}"
      ]
     },
     "execution_count": 17,
     "metadata": {},
     "output_type": "execute_result"
    }
   ],
   "source": [
    "raw_datasets[\"train\"][1][\"answers\"]"
   ]
  },
  {
   "cell_type": "code",
   "execution_count": 18,
   "metadata": {},
   "outputs": [
    {
     "data": {
      "text/plain": [
       "Dataset({\n",
       "    features: ['id', 'title', 'context', 'question', 'answers'],\n",
       "    num_rows: 0\n",
       "})"
      ]
     },
     "execution_count": 18,
     "metadata": {},
     "output_type": "execute_result"
    }
   ],
   "source": [
    "# for train set, ensure that there's always 1 answer\n",
    "# not multiple answers, or no answers\n",
    "raw_datasets[\"train\"].filter(lambda x: len(x[\"answers\"][\"text\"]) != 1)"
   ]
  },
  {
   "cell_type": "code",
   "execution_count": 19,
   "metadata": {},
   "outputs": [
    {
     "data": {
      "text/plain": [
       "Dataset({\n",
       "    features: ['id', 'title', 'context', 'question', 'answers'],\n",
       "    num_rows: 87599\n",
       "})"
      ]
     },
     "execution_count": 19,
     "metadata": {},
     "output_type": "execute_result"
    }
   ],
   "source": [
    "raw_datasets[\"train\"]"
   ]
  },
  {
   "cell_type": "code",
   "execution_count": 20,
   "metadata": {},
   "outputs": [
    {
     "data": {
      "text/plain": [
       "{'text': ['Santa Clara, California',\n",
       "  \"Levi's Stadium\",\n",
       "  \"Levi's Stadium in the San Francisco Bay Area at Santa Clara, California.\"],\n",
       " 'answer_start': [403, 355, 355]}"
      ]
     },
     "execution_count": 20,
     "metadata": {},
     "output_type": "execute_result"
    }
   ],
   "source": [
    "# for validation set, there may be multiple answers\n",
    "raw_datasets[\"validation\"][2][\"answers\"]"
   ]
  },
  {
   "cell_type": "code",
   "execution_count": 21,
   "metadata": {},
   "outputs": [
    {
     "data": {
      "text/plain": [
       "'Super Bowl 50 was an American football game to determine the champion of the National Football League (NFL) for the 2015 season. The American Football Conference (AFC) champion Denver Broncos defeated the National Football Conference (NFC) champion Carolina Panthers 24–10 to earn their third Super Bowl title. The game was played on February 7, 2016, at Levi\\'s Stadium in the San Francisco Bay Area at Santa Clara, California. As this was the 50th Super Bowl, the league emphasized the \"golden anniversary\" with various gold-themed initiatives, as well as temporarily suspending the tradition of naming each Super Bowl game with Roman numerals (under which the game would have been known as \"Super Bowl L\"), so that the logo could prominently feature the Arabic numerals 50.'"
      ]
     },
     "execution_count": 21,
     "metadata": {},
     "output_type": "execute_result"
    }
   ],
   "source": [
    "# why are there multiple answers?\n",
    "raw_datasets[\"validation\"][2][\"context\"]"
   ]
  },
  {
   "cell_type": "code",
   "execution_count": 22,
   "metadata": {},
   "outputs": [
    {
     "data": {
      "text/plain": [
       "{'text': ['Denver Broncos', 'Denver Broncos', 'Denver Broncos'],\n",
       " 'answer_start': [177, 177, 177]}"
      ]
     },
     "execution_count": 22,
     "metadata": {},
     "output_type": "execute_result"
    }
   ],
   "source": [
    "# they may even be the same!\n",
    "raw_datasets[\"validation\"][0][\"answers\"]"
   ]
  },
  {
   "cell_type": "code",
   "execution_count": 23,
   "metadata": {},
   "outputs": [],
   "source": [
    "from transformers import AutoTokenizer\n",
    "\n",
    "model_checkpoint = \"distilbert-base-cased\"\n",
    "# model_checkpoint = \"bert-base-cased\" # try it yourself\n",
    "tokenizer = AutoTokenizer.from_pretrained(model_checkpoint)"
   ]
  },
  {
   "cell_type": "code",
   "execution_count": 24,
   "metadata": {},
   "outputs": [
    {
     "data": {
      "text/plain": [
       "'[CLS] What is in front of the Notre Dame Main Building? [SEP] Architecturally, the school has a Catholic character. Atop the Main Building\\'s gold dome is a golden statue of the Virgin Mary. Immediately in front of the Main Building and facing it, is a copper statue of Christ with arms upraised with the legend \" Venite Ad Me Omnes \". Next to the Main Building is the Basilica of the Sacred Heart. Immediately behind the basilica is the Grotto, a Marian place of prayer and reflection. It is a replica of the grotto at Lourdes, France where the Virgin Mary reputedly appeared to Saint Bernadette Soubirous in 1858. At the end of the main drive ( and in a direct line that connects through 3 statues and the Gold Dome ), is a simple, modern stone statue of Mary. [SEP]'"
      ]
     },
     "execution_count": 24,
     "metadata": {},
     "output_type": "execute_result"
    }
   ],
   "source": [
    "context = raw_datasets[\"train\"][1][\"context\"]\n",
    "question = raw_datasets[\"train\"][1][\"question\"]\n",
    "\n",
    "inputs = tokenizer(question, context)\n",
    "tokenizer.decode(inputs[\"input_ids\"])"
   ]
  },
  {
   "cell_type": "code",
   "execution_count": 25,
   "metadata": {},
   "outputs": [
    {
     "name": "stdout",
     "output_type": "stream",
     "text": [
      "[CLS] What is in front of the Notre Dame Main Building? [SEP] Architecturally, the school has a Catholic character. Atop the Main Building's gold dome is a golden statue of the Virgin Mary. Immediately in front of the Main Building and facing it, is a copper statue of Christ with arms upraised with the legend \" Venite Ad Me Omnes \". Next to the Main Building is the Basilica of the Sacred Heart. Immediately behind the basilica is the G [SEP]\n",
      "[CLS] What is in front of the Notre Dame Main Building? [SEP] facing it, is a copper statue of Christ with arms upraised with the legend \" Venite Ad Me Omnes \". Next to the Main Building is the Basilica of the Sacred Heart. Immediately behind the basilica is the Grotto, a Marian place of prayer and reflection. It is a replica of the grotto at Lourdes, France where the Virgin Mary reputedly appeared to Saint Bernade [SEP]\n",
      "[CLS] What is in front of the Notre Dame Main Building? [SEP] of the Sacred Heart. Immediately behind the basilica is the Grotto, a Marian place of prayer and reflection. It is a replica of the grotto at Lourdes, France where the Virgin Mary reputedly appeared to Saint Bernadette Soubirous in 1858. At the end of the main drive ( and in a direct line that connects through 3 statues and the Gold Dome ), is a simple, modern [SEP]\n",
      "[CLS] What is in front of the Notre Dame Main Building? [SEP]rdes, France where the Virgin Mary reputedly appeared to Saint Bernadette Soubirous in 1858. At the end of the main drive ( and in a direct line that connects through 3 statues and the Gold Dome ), is a simple, modern stone statue of Mary. [SEP]\n"
     ]
    }
   ],
   "source": [
    "# what if the context is really long?\n",
    "# split it into multiple samples\n",
    "inputs = tokenizer(\n",
    "  question,\n",
    "  context,\n",
    "  max_length=100,\n",
    "  truncation=\"only_second\",\n",
    "  stride=50,\n",
    "  return_overflowing_tokens=True,\n",
    ")\n",
    "\n",
    "for ids in inputs[\"input_ids\"]:\n",
    "  print(tokenizer.decode(ids))"
   ]
  },
  {
   "cell_type": "code",
   "execution_count": 26,
   "metadata": {},
   "outputs": [
    {
     "data": {
      "text/plain": [
       "dict_keys(['input_ids', 'attention_mask', 'overflow_to_sample_mapping'])"
      ]
     },
     "execution_count": 26,
     "metadata": {},
     "output_type": "execute_result"
    }
   ],
   "source": [
    "inputs.keys()"
   ]
  },
  {
   "cell_type": "code",
   "execution_count": 27,
   "metadata": {},
   "outputs": [
    {
     "data": {
      "text/plain": [
       "[0, 0, 0, 0]"
      ]
     },
     "execution_count": 27,
     "metadata": {},
     "output_type": "execute_result"
    }
   ],
   "source": [
    "# what's the new key?\n",
    "inputs['overflow_to_sample_mapping']"
   ]
  },
  {
   "cell_type": "code",
   "execution_count": 28,
   "metadata": {},
   "outputs": [
    {
     "data": {
      "text/plain": [
       "[0, 0, 0, 0, 1, 1, 1, 1, 2, 2, 2, 2]"
      ]
     },
     "execution_count": 28,
     "metadata": {},
     "output_type": "execute_result"
    }
   ],
   "source": [
    "inputs = tokenizer(\n",
    "    raw_datasets[\"train\"][:3][\"question\"],\n",
    "    raw_datasets[\"train\"][:3][\"context\"],\n",
    "    max_length=100,\n",
    "    truncation=\"only_second\",\n",
    "    stride=50,\n",
    "    return_overflowing_tokens=True,\n",
    "    return_offsets_mapping=True,\n",
    ")\n",
    "inputs['overflow_to_sample_mapping']"
   ]
  },
  {
   "cell_type": "code",
   "execution_count": 29,
   "metadata": {},
   "outputs": [
    {
     "data": {
      "text/plain": [
       "12"
      ]
     },
     "execution_count": 29,
     "metadata": {},
     "output_type": "execute_result"
    }
   ],
   "source": [
    "len(inputs[\"input_ids\"])"
   ]
  },
  {
   "cell_type": "code",
   "execution_count": 30,
   "metadata": {},
   "outputs": [
    {
     "data": {
      "text/plain": [
       "list"
      ]
     },
     "execution_count": 30,
     "metadata": {},
     "output_type": "execute_result"
    }
   ],
   "source": [
    "type(inputs[\"input_ids\"])"
   ]
  },
  {
   "cell_type": "code",
   "execution_count": 31,
   "metadata": {},
   "outputs": [
    {
     "data": {
      "text/plain": [
       "[101,\n",
       " 1706,\n",
       " 2292,\n",
       " 1225,\n",
       " 1103,\n",
       " 6567,\n",
       " 2090,\n",
       " 9273,\n",
       " 2845,\n",
       " 1107,\n",
       " 8109,\n",
       " 1107,\n",
       " 10111,\n",
       " 20500,\n",
       " 1699,\n",
       " 136,\n",
       " 102,\n",
       " 22182,\n",
       " 1193,\n",
       " 117,\n",
       " 1103,\n",
       " 1278,\n",
       " 1144,\n",
       " 170,\n",
       " 2336,\n",
       " 1959,\n",
       " 119,\n",
       " 1335,\n",
       " 4184,\n",
       " 1103,\n",
       " 4304,\n",
       " 4334,\n",
       " 112,\n",
       " 188,\n",
       " 2284,\n",
       " 10945,\n",
       " 1110,\n",
       " 170,\n",
       " 5404,\n",
       " 5921,\n",
       " 1104,\n",
       " 1103,\n",
       " 6567,\n",
       " 2090,\n",
       " 119,\n",
       " 13301,\n",
       " 1107,\n",
       " 1524,\n",
       " 1104,\n",
       " 1103,\n",
       " 4304,\n",
       " 4334,\n",
       " 1105,\n",
       " 4749,\n",
       " 1122,\n",
       " 117,\n",
       " 1110,\n",
       " 170,\n",
       " 7335,\n",
       " 5921,\n",
       " 1104,\n",
       " 4028,\n",
       " 1114,\n",
       " 1739,\n",
       " 1146,\n",
       " 14089,\n",
       " 5591,\n",
       " 1114,\n",
       " 1103,\n",
       " 7051,\n",
       " 107,\n",
       " 159,\n",
       " 21462,\n",
       " 1566,\n",
       " 24930,\n",
       " 2508,\n",
       " 152,\n",
       " 1306,\n",
       " 3965,\n",
       " 107,\n",
       " 119,\n",
       " 5893,\n",
       " 1106,\n",
       " 1103,\n",
       " 4304,\n",
       " 4334,\n",
       " 1110,\n",
       " 1103,\n",
       " 19349,\n",
       " 1104,\n",
       " 1103,\n",
       " 11373,\n",
       " 4641,\n",
       " 119,\n",
       " 13301,\n",
       " 1481,\n",
       " 1103,\n",
       " 171,\n",
       " 17506,\n",
       " 102]"
      ]
     },
     "execution_count": 31,
     "metadata": {},
     "output_type": "execute_result"
    }
   ],
   "source": [
    "inputs[\"input_ids\"][0]"
   ]
  },
  {
   "cell_type": "code",
   "execution_count": 32,
   "metadata": {},
   "outputs": [
    {
     "data": {
      "text/plain": [
       "100"
      ]
     },
     "execution_count": 32,
     "metadata": {},
     "output_type": "execute_result"
    }
   ],
   "source": [
    "len(inputs[\"input_ids\"][0])"
   ]
  },
  {
   "cell_type": "code",
   "execution_count": 33,
   "metadata": {},
   "outputs": [
    {
     "data": {
      "text/plain": [
       "[101,\n",
       " 1706,\n",
       " 2292,\n",
       " 1225,\n",
       " 1103,\n",
       " 6567,\n",
       " 2090,\n",
       " 9273,\n",
       " 2845,\n",
       " 1107,\n",
       " 8109,\n",
       " 1107,\n",
       " 10111,\n",
       " 20500,\n",
       " 1699,\n",
       " 136,\n",
       " 102,\n",
       " 1103,\n",
       " 4304,\n",
       " 4334,\n",
       " 1105,\n",
       " 4749,\n",
       " 1122,\n",
       " 117,\n",
       " 1110,\n",
       " 170,\n",
       " 7335,\n",
       " 5921,\n",
       " 1104,\n",
       " 4028,\n",
       " 1114,\n",
       " 1739,\n",
       " 1146,\n",
       " 14089,\n",
       " 5591,\n",
       " 1114,\n",
       " 1103,\n",
       " 7051,\n",
       " 107,\n",
       " 159,\n",
       " 21462,\n",
       " 1566,\n",
       " 24930,\n",
       " 2508,\n",
       " 152,\n",
       " 1306,\n",
       " 3965,\n",
       " 107,\n",
       " 119,\n",
       " 5893,\n",
       " 1106,\n",
       " 1103,\n",
       " 4304,\n",
       " 4334,\n",
       " 1110,\n",
       " 1103,\n",
       " 19349,\n",
       " 1104,\n",
       " 1103,\n",
       " 11373,\n",
       " 4641,\n",
       " 119,\n",
       " 13301,\n",
       " 1481,\n",
       " 1103,\n",
       " 171,\n",
       " 17506,\n",
       " 9538,\n",
       " 1110,\n",
       " 1103,\n",
       " 144,\n",
       " 10595,\n",
       " 2430,\n",
       " 117,\n",
       " 170,\n",
       " 14789,\n",
       " 1282,\n",
       " 1104,\n",
       " 8070,\n",
       " 1105,\n",
       " 9284,\n",
       " 119,\n",
       " 1135,\n",
       " 1110,\n",
       " 170,\n",
       " 16498,\n",
       " 1104,\n",
       " 1103,\n",
       " 176,\n",
       " 10595,\n",
       " 2430,\n",
       " 1120,\n",
       " 10111,\n",
       " 20500,\n",
       " 117,\n",
       " 1699,\n",
       " 1187,\n",
       " 1103,\n",
       " 6567,\n",
       " 102]"
      ]
     },
     "execution_count": 33,
     "metadata": {},
     "output_type": "execute_result"
    }
   ],
   "source": [
    "inputs[\"input_ids\"][1]"
   ]
  },
  {
   "cell_type": "code",
   "execution_count": 34,
   "metadata": {},
   "outputs": [
    {
     "name": "stdout",
     "output_type": "stream",
     "text": [
      "[CLS] To whom did the Virgin Mary allegedly appear in 1858 in Lourdes France? [SEP] Architecturally, the school has a Catholic character. Atop the Main Building's gold dome is a golden statue of the Virgin Mary. Immediately in front of the Main Building and facing it, is a copper statue of Christ with arms upraised with the legend \" Venite Ad Me Omnes \". Next to the Main Building is the Basilica of the Sacred Heart. Immediately behind the basi [SEP]\n",
      "[CLS] To whom did the Virgin Mary allegedly appear in 1858 in Lourdes France? [SEP] the Main Building and facing it, is a copper statue of Christ with arms upraised with the legend \" Venite Ad Me Omnes \". Next to the Main Building is the Basilica of the Sacred Heart. Immediately behind the basilica is the Grotto, a Marian place of prayer and reflection. It is a replica of the grotto at Lourdes, France where the Virgin [SEP]\n",
      "[CLS] To whom did the Virgin Mary allegedly appear in 1858 in Lourdes France? [SEP] Next to the Main Building is the Basilica of the Sacred Heart. Immediately behind the basilica is the Grotto, a Marian place of prayer and reflection. It is a replica of the grotto at Lourdes, France where the Virgin Mary reputedly appeared to Saint Bernadette Soubirous in 1858. At the end of the main drive ( and in a direct line that connects through 3 [SEP]\n",
      "[CLS] To whom did the Virgin Mary allegedly appear in 1858 in Lourdes France? [SEP]. It is a replica of the grotto at Lourdes, France where the Virgin Mary reputedly appeared to Saint Bernadette Soubirous in 1858. At the end of the main drive ( and in a direct line that connects through 3 statues and the Gold Dome ), is a simple, modern stone statue of Mary. [SEP]\n",
      "[CLS] What is in front of the Notre Dame Main Building? [SEP] Architecturally, the school has a Catholic character. Atop the Main Building's gold dome is a golden statue of the Virgin Mary. Immediately in front of the Main Building and facing it, is a copper statue of Christ with arms upraised with the legend \" Venite Ad Me Omnes \". Next to the Main Building is the Basilica of the Sacred Heart. Immediately behind the basilica is the G [SEP]\n",
      "[CLS] What is in front of the Notre Dame Main Building? [SEP] facing it, is a copper statue of Christ with arms upraised with the legend \" Venite Ad Me Omnes \". Next to the Main Building is the Basilica of the Sacred Heart. Immediately behind the basilica is the Grotto, a Marian place of prayer and reflection. It is a replica of the grotto at Lourdes, France where the Virgin Mary reputedly appeared to Saint Bernade [SEP]\n",
      "[CLS] What is in front of the Notre Dame Main Building? [SEP] of the Sacred Heart. Immediately behind the basilica is the Grotto, a Marian place of prayer and reflection. It is a replica of the grotto at Lourdes, France where the Virgin Mary reputedly appeared to Saint Bernadette Soubirous in 1858. At the end of the main drive ( and in a direct line that connects through 3 statues and the Gold Dome ), is a simple, modern [SEP]\n",
      "[CLS] What is in front of the Notre Dame Main Building? [SEP]rdes, France where the Virgin Mary reputedly appeared to Saint Bernadette Soubirous in 1858. At the end of the main drive ( and in a direct line that connects through 3 statues and the Gold Dome ), is a simple, modern stone statue of Mary. [SEP]\n",
      "[CLS] The Basilica of the Sacred heart at Notre Dame is beside to which structure? [SEP] Architecturally, the school has a Catholic character. Atop the Main Building's gold dome is a golden statue of the Virgin Mary. Immediately in front of the Main Building and facing it, is a copper statue of Christ with arms upraised with the legend \" Venite Ad Me Omnes \". Next to the Main Building is the Basilica of the Sacred Heart. Immediately behind the basi [SEP]\n",
      "[CLS] The Basilica of the Sacred heart at Notre Dame is beside to which structure? [SEP] the Main Building and facing it, is a copper statue of Christ with arms upraised with the legend \" Venite Ad Me Omnes \". Next to the Main Building is the Basilica of the Sacred Heart. Immediately behind the basilica is the Grotto, a Marian place of prayer and reflection. It is a replica of the grotto at Lourdes, France where the Virgin [SEP]\n",
      "[CLS] The Basilica of the Sacred heart at Notre Dame is beside to which structure? [SEP] Next to the Main Building is the Basilica of the Sacred Heart. Immediately behind the basilica is the Grotto, a Marian place of prayer and reflection. It is a replica of the grotto at Lourdes, France where the Virgin Mary reputedly appeared to Saint Bernadette Soubirous in 1858. At the end of the main drive ( and in a direct line that connects through 3 [SEP]\n",
      "[CLS] The Basilica of the Sacred heart at Notre Dame is beside to which structure? [SEP]. It is a replica of the grotto at Lourdes, France where the Virgin Mary reputedly appeared to Saint Bernadette Soubirous in 1858. At the end of the main drive ( and in a direct line that connects through 3 statues and the Gold Dome ), is a simple, modern stone statue of Mary. [SEP]\n"
     ]
    }
   ],
   "source": [
    "# it points to the original sample index\n",
    "for ids in inputs[\"input_ids\"]:\n",
    "  print(tokenizer.decode(ids))"
   ]
  },
  {
   "cell_type": "code",
   "execution_count": 35,
   "metadata": {},
   "outputs": [
    {
     "data": {
      "text/plain": [
       "dict_keys(['input_ids', 'attention_mask', 'offset_mapping', 'overflow_to_sample_mapping'])"
      ]
     },
     "execution_count": 35,
     "metadata": {},
     "output_type": "execute_result"
    }
   ],
   "source": [
    "# recreate inputs for just a single context-question pair\n",
    "inputs = tokenizer(\n",
    "    question,\n",
    "    context,\n",
    "    max_length=100,\n",
    "    truncation=\"only_second\",\n",
    "    stride=50,\n",
    "    return_overflowing_tokens=True,\n",
    "    return_offsets_mapping=True,\n",
    ")\n",
    "inputs.keys()"
   ]
  },
  {
   "cell_type": "code",
   "execution_count": 36,
   "metadata": {},
   "outputs": [
    {
     "data": {
      "text/plain": [
       "[0, 0, 0, 0]"
      ]
     },
     "execution_count": 36,
     "metadata": {},
     "output_type": "execute_result"
    }
   ],
   "source": [
    "inputs[\"overflow_to_sample_mapping\"]"
   ]
  },
  {
   "cell_type": "code",
   "execution_count": null,
   "metadata": {},
   "outputs": [],
   "source": []
  },
  {
   "cell_type": "code",
   "execution_count": 37,
   "metadata": {},
   "outputs": [
    {
     "data": {
      "text/plain": [
       "[[(0, 0),\n",
       "  (0, 4),\n",
       "  (5, 7),\n",
       "  (8, 10),\n",
       "  (11, 16),\n",
       "  (17, 19),\n",
       "  (20, 23),\n",
       "  (24, 29),\n",
       "  (30, 34),\n",
       "  (35, 39),\n",
       "  (40, 48),\n",
       "  (48, 49),\n",
       "  (0, 0),\n",
       "  (0, 13),\n",
       "  (13, 15),\n",
       "  (15, 16),\n",
       "  (17, 20),\n",
       "  (21, 27),\n",
       "  (28, 31),\n",
       "  (32, 33),\n",
       "  (34, 42),\n",
       "  (43, 52),\n",
       "  (52, 53),\n",
       "  (54, 56),\n",
       "  (56, 58),\n",
       "  (59, 62),\n",
       "  (63, 67),\n",
       "  (68, 76),\n",
       "  (76, 77),\n",
       "  (77, 78),\n",
       "  (79, 83),\n",
       "  (84, 88),\n",
       "  (89, 91),\n",
       "  (92, 93),\n",
       "  (94, 100),\n",
       "  (101, 107),\n",
       "  (108, 110),\n",
       "  (111, 114),\n",
       "  (115, 121),\n",
       "  (122, 126),\n",
       "  (126, 127),\n",
       "  (128, 139),\n",
       "  (140, 142),\n",
       "  (143, 148),\n",
       "  (149, 151),\n",
       "  (152, 155),\n",
       "  (156, 160),\n",
       "  (161, 169),\n",
       "  (170, 173),\n",
       "  (174, 180),\n",
       "  (181, 183),\n",
       "  (183, 184),\n",
       "  (185, 187),\n",
       "  (188, 189),\n",
       "  (190, 196),\n",
       "  (197, 203),\n",
       "  (204, 206),\n",
       "  (207, 213),\n",
       "  (214, 218),\n",
       "  (219, 223),\n",
       "  (224, 226),\n",
       "  (226, 229),\n",
       "  (229, 232),\n",
       "  (233, 237),\n",
       "  (238, 241),\n",
       "  (242, 248),\n",
       "  (249, 250),\n",
       "  (250, 251),\n",
       "  (251, 254),\n",
       "  (254, 256),\n",
       "  (257, 259),\n",
       "  (260, 262),\n",
       "  (263, 264),\n",
       "  (264, 265),\n",
       "  (265, 268),\n",
       "  (268, 269),\n",
       "  (269, 270),\n",
       "  (271, 275),\n",
       "  (276, 278),\n",
       "  (279, 282),\n",
       "  (283, 287),\n",
       "  (288, 296),\n",
       "  (297, 299),\n",
       "  (300, 303),\n",
       "  (304, 312),\n",
       "  (313, 315),\n",
       "  (316, 319),\n",
       "  (320, 326),\n",
       "  (327, 332),\n",
       "  (332, 333),\n",
       "  (334, 345),\n",
       "  (346, 352),\n",
       "  (353, 356),\n",
       "  (357, 358),\n",
       "  (358, 361),\n",
       "  (361, 365),\n",
       "  (366, 368),\n",
       "  (369, 372),\n",
       "  (373, 374),\n",
       "  (0, 0)],\n",
       " [(0, 0),\n",
       "  (0, 4),\n",
       "  (5, 7),\n",
       "  (8, 10),\n",
       "  (11, 16),\n",
       "  (17, 19),\n",
       "  (20, 23),\n",
       "  (24, 29),\n",
       "  (30, 34),\n",
       "  (35, 39),\n",
       "  (40, 48),\n",
       "  (48, 49),\n",
       "  (0, 0),\n",
       "  (174, 180),\n",
       "  (181, 183),\n",
       "  (183, 184),\n",
       "  (185, 187),\n",
       "  (188, 189),\n",
       "  (190, 196),\n",
       "  (197, 203),\n",
       "  (204, 206),\n",
       "  (207, 213),\n",
       "  (214, 218),\n",
       "  (219, 223),\n",
       "  (224, 226),\n",
       "  (226, 229),\n",
       "  (229, 232),\n",
       "  (233, 237),\n",
       "  (238, 241),\n",
       "  (242, 248),\n",
       "  (249, 250),\n",
       "  (250, 251),\n",
       "  (251, 254),\n",
       "  (254, 256),\n",
       "  (257, 259),\n",
       "  (260, 262),\n",
       "  (263, 264),\n",
       "  (264, 265),\n",
       "  (265, 268),\n",
       "  (268, 269),\n",
       "  (269, 270),\n",
       "  (271, 275),\n",
       "  (276, 278),\n",
       "  (279, 282),\n",
       "  (283, 287),\n",
       "  (288, 296),\n",
       "  (297, 299),\n",
       "  (300, 303),\n",
       "  (304, 312),\n",
       "  (313, 315),\n",
       "  (316, 319),\n",
       "  (320, 326),\n",
       "  (327, 332),\n",
       "  (332, 333),\n",
       "  (334, 345),\n",
       "  (346, 352),\n",
       "  (353, 356),\n",
       "  (357, 358),\n",
       "  (358, 361),\n",
       "  (361, 365),\n",
       "  (366, 368),\n",
       "  (369, 372),\n",
       "  (373, 374),\n",
       "  (374, 377),\n",
       "  (377, 379),\n",
       "  (379, 380),\n",
       "  (381, 382),\n",
       "  (383, 389),\n",
       "  (390, 395),\n",
       "  (396, 398),\n",
       "  (399, 405),\n",
       "  (406, 409),\n",
       "  (410, 420),\n",
       "  (420, 421),\n",
       "  (422, 424),\n",
       "  (425, 427),\n",
       "  (428, 429),\n",
       "  (430, 437),\n",
       "  (438, 440),\n",
       "  (441, 444),\n",
       "  (445, 446),\n",
       "  (446, 449),\n",
       "  (449, 451),\n",
       "  (452, 454),\n",
       "  (455, 458),\n",
       "  (458, 462),\n",
       "  (462, 463),\n",
       "  (464, 470),\n",
       "  (471, 476),\n",
       "  (477, 480),\n",
       "  (481, 487),\n",
       "  (488, 492),\n",
       "  (493, 500),\n",
       "  (500, 502),\n",
       "  (503, 511),\n",
       "  (512, 514),\n",
       "  (515, 520),\n",
       "  (521, 525),\n",
       "  (525, 528),\n",
       "  (0, 0)],\n",
       " [(0, 0),\n",
       "  (0, 4),\n",
       "  (5, 7),\n",
       "  (8, 10),\n",
       "  (11, 16),\n",
       "  (17, 19),\n",
       "  (20, 23),\n",
       "  (24, 29),\n",
       "  (30, 34),\n",
       "  (35, 39),\n",
       "  (40, 48),\n",
       "  (48, 49),\n",
       "  (0, 0),\n",
       "  (313, 315),\n",
       "  (316, 319),\n",
       "  (320, 326),\n",
       "  (327, 332),\n",
       "  (332, 333),\n",
       "  (334, 345),\n",
       "  (346, 352),\n",
       "  (353, 356),\n",
       "  (357, 358),\n",
       "  (358, 361),\n",
       "  (361, 365),\n",
       "  (366, 368),\n",
       "  (369, 372),\n",
       "  (373, 374),\n",
       "  (374, 377),\n",
       "  (377, 379),\n",
       "  (379, 380),\n",
       "  (381, 382),\n",
       "  (383, 389),\n",
       "  (390, 395),\n",
       "  (396, 398),\n",
       "  (399, 405),\n",
       "  (406, 409),\n",
       "  (410, 420),\n",
       "  (420, 421),\n",
       "  (422, 424),\n",
       "  (425, 427),\n",
       "  (428, 429),\n",
       "  (430, 437),\n",
       "  (438, 440),\n",
       "  (441, 444),\n",
       "  (445, 446),\n",
       "  (446, 449),\n",
       "  (449, 451),\n",
       "  (452, 454),\n",
       "  (455, 458),\n",
       "  (458, 462),\n",
       "  (462, 463),\n",
       "  (464, 470),\n",
       "  (471, 476),\n",
       "  (477, 480),\n",
       "  (481, 487),\n",
       "  (488, 492),\n",
       "  (493, 500),\n",
       "  (500, 502),\n",
       "  (503, 511),\n",
       "  (512, 514),\n",
       "  (515, 520),\n",
       "  (521, 525),\n",
       "  (525, 528),\n",
       "  (528, 531),\n",
       "  (532, 534),\n",
       "  (534, 537),\n",
       "  (537, 541),\n",
       "  (542, 544),\n",
       "  (545, 549),\n",
       "  (549, 550),\n",
       "  (551, 553),\n",
       "  (554, 557),\n",
       "  (558, 561),\n",
       "  (562, 564),\n",
       "  (565, 568),\n",
       "  (569, 573),\n",
       "  (574, 579),\n",
       "  (580, 581),\n",
       "  (581, 584),\n",
       "  (585, 587),\n",
       "  (588, 589),\n",
       "  (590, 596),\n",
       "  (597, 601),\n",
       "  (602, 606),\n",
       "  (607, 615),\n",
       "  (616, 623),\n",
       "  (624, 625),\n",
       "  (626, 633),\n",
       "  (634, 637),\n",
       "  (638, 641),\n",
       "  (642, 646),\n",
       "  (647, 651),\n",
       "  (651, 652),\n",
       "  (652, 653),\n",
       "  (654, 656),\n",
       "  (657, 658),\n",
       "  (659, 665),\n",
       "  (665, 666),\n",
       "  (667, 673),\n",
       "  (0, 0)],\n",
       " [(0, 0),\n",
       "  (0, 4),\n",
       "  (5, 7),\n",
       "  (8, 10),\n",
       "  (11, 16),\n",
       "  (17, 19),\n",
       "  (20, 23),\n",
       "  (24, 29),\n",
       "  (30, 34),\n",
       "  (35, 39),\n",
       "  (40, 48),\n",
       "  (48, 49),\n",
       "  (0, 0),\n",
       "  (458, 462),\n",
       "  (462, 463),\n",
       "  (464, 470),\n",
       "  (471, 476),\n",
       "  (477, 480),\n",
       "  (481, 487),\n",
       "  (488, 492),\n",
       "  (493, 500),\n",
       "  (500, 502),\n",
       "  (503, 511),\n",
       "  (512, 514),\n",
       "  (515, 520),\n",
       "  (521, 525),\n",
       "  (525, 528),\n",
       "  (528, 531),\n",
       "  (532, 534),\n",
       "  (534, 537),\n",
       "  (537, 541),\n",
       "  (542, 544),\n",
       "  (545, 549),\n",
       "  (549, 550),\n",
       "  (551, 553),\n",
       "  (554, 557),\n",
       "  (558, 561),\n",
       "  (562, 564),\n",
       "  (565, 568),\n",
       "  (569, 573),\n",
       "  (574, 579),\n",
       "  (580, 581),\n",
       "  (581, 584),\n",
       "  (585, 587),\n",
       "  (588, 589),\n",
       "  (590, 596),\n",
       "  (597, 601),\n",
       "  (602, 606),\n",
       "  (607, 615),\n",
       "  (616, 623),\n",
       "  (624, 625),\n",
       "  (626, 633),\n",
       "  (634, 637),\n",
       "  (638, 641),\n",
       "  (642, 646),\n",
       "  (647, 651),\n",
       "  (651, 652),\n",
       "  (652, 653),\n",
       "  (654, 656),\n",
       "  (657, 658),\n",
       "  (659, 665),\n",
       "  (665, 666),\n",
       "  (667, 673),\n",
       "  (674, 679),\n",
       "  (680, 686),\n",
       "  (687, 689),\n",
       "  (690, 694),\n",
       "  (694, 695),\n",
       "  (0, 0)]]"
      ]
     },
     "execution_count": 37,
     "metadata": {},
     "output_type": "execute_result"
    }
   ],
   "source": [
    "# what is this (weirdly named) offset_mapping?\n",
    "# it tells us the location of each token\n",
    "# notes:\n",
    "# special tokens take up 0 space - (0, 0)\n",
    "# the question portion is the same for each sample\n",
    "# the context portion starting point inceases in each sample\n",
    "inputs['offset_mapping']"
   ]
  },
  {
   "cell_type": "code",
   "execution_count": 38,
   "metadata": {},
   "outputs": [
    {
     "data": {
      "text/plain": [
       "4"
      ]
     },
     "execution_count": 38,
     "metadata": {},
     "output_type": "execute_result"
    }
   ],
   "source": [
    "len(inputs['offset_mapping'])"
   ]
  },
  {
   "cell_type": "code",
   "execution_count": 39,
   "metadata": {},
   "outputs": [
    {
     "data": {
      "text/plain": [
       "100"
      ]
     },
     "execution_count": 39,
     "metadata": {},
     "output_type": "execute_result"
    }
   ],
   "source": [
    "len(inputs['offset_mapping'][1])"
   ]
  },
  {
   "cell_type": "code",
   "execution_count": 40,
   "metadata": {},
   "outputs": [
    {
     "data": {
      "text/plain": [
       "69"
      ]
     },
     "execution_count": 40,
     "metadata": {},
     "output_type": "execute_result"
    }
   ],
   "source": [
    "len(inputs['offset_mapping'][3])"
   ]
  },
  {
   "cell_type": "code",
   "execution_count": 41,
   "metadata": {},
   "outputs": [
    {
     "data": {
      "text/plain": [
       "100"
      ]
     },
     "execution_count": 41,
     "metadata": {},
     "output_type": "execute_result"
    }
   ],
   "source": [
    "len(inputs['offset_mapping'][2])"
   ]
  },
  {
   "cell_type": "code",
   "execution_count": 42,
   "metadata": {},
   "outputs": [
    {
     "data": {
      "text/plain": [
       "100"
      ]
     },
     "execution_count": 42,
     "metadata": {},
     "output_type": "execute_result"
    }
   ],
   "source": [
    "len(inputs['offset_mapping'][0])"
   ]
  },
  {
   "cell_type": "code",
   "execution_count": 43,
   "metadata": {},
   "outputs": [
    {
     "data": {
      "text/plain": [
       "{'text': ['a copper statue of Christ'], 'answer_start': [188]}"
      ]
     },
     "execution_count": 43,
     "metadata": {},
     "output_type": "execute_result"
    }
   ],
   "source": [
    "# problem: the position of the answer will change in each\n",
    "# window of the context\n",
    "# the answer is also the target for the neural network\n",
    "# how can we recompute the targets for each context window?\n",
    "\n",
    "# since we took the question and context from this sample earlier\n",
    "answer = raw_datasets[\"train\"][1][\"answers\"]\n",
    "answer"
   ]
  },
  {
   "cell_type": "code",
   "execution_count": 44,
   "metadata": {},
   "outputs": [
    {
     "data": {
      "text/plain": [
       "list"
      ]
     },
     "execution_count": 44,
     "metadata": {},
     "output_type": "execute_result"
    }
   ],
   "source": [
    "type(inputs.sequence_ids(0))"
   ]
  },
  {
   "cell_type": "code",
   "execution_count": 45,
   "metadata": {},
   "outputs": [
    {
     "data": {
      "text/plain": [
       "(13, 98)"
      ]
     },
     "execution_count": 45,
     "metadata": {},
     "output_type": "execute_result"
    }
   ],
   "source": [
    "# find the start and end of the context (the first and last '1')\n",
    "sequence_ids = inputs.sequence_ids(0)\n",
    "\n",
    "ctx_start = sequence_ids.index(1) # first occurrence\n",
    "ctx_end = len(sequence_ids) - sequence_ids[::-1].index(1) - 1 # last occurrence\n",
    "\n",
    "ctx_start, ctx_end"
   ]
  },
  {
   "cell_type": "code",
   "execution_count": 46,
   "metadata": {},
   "outputs": [
    {
     "data": {
      "text/plain": [
       "(53, 57)"
      ]
     },
     "execution_count": 46,
     "metadata": {},
     "output_type": "execute_result"
    }
   ],
   "source": [
    "# check whether or not the answer is fully contained within the context\n",
    "# if not, target is (start, end) = (0, 0)\n",
    "\n",
    "ans_start_char = answer['answer_start'][0]\n",
    "ans_end_char = ans_start_char + len(answer['text'][0])\n",
    "\n",
    "offset = inputs['offset_mapping'][0]\n",
    "\n",
    "start_idx = 0\n",
    "end_idx = 0\n",
    "\n",
    "if offset[ctx_start][0] > ans_start_char or offset[ctx_end][1] < ans_end_char:\n",
    "  print(\"target is (0, 0)\")\n",
    "  # nothing else to do\n",
    "else:\n",
    "  # find the start and end TOKEN positions\n",
    "\n",
    "  # the 'trick' is knowing what is in units of tokens and what is in\n",
    "  # units of characters\n",
    "\n",
    "  # recall: the offset_mapping contains the character positions of each token\n",
    "\n",
    "  i = ctx_start\n",
    "  for start_end_char in offset[ctx_start:]:\n",
    "    start, end = start_end_char\n",
    "    if start == ans_start_char:\n",
    "      start_idx = i\n",
    "      # don't break yet\n",
    "    \n",
    "    if end == ans_end_char:\n",
    "      end_idx = i\n",
    "      break\n",
    "\n",
    "    i += 1\n",
    "\n",
    "start_idx, end_idx"
   ]
  },
  {
   "cell_type": "code",
   "execution_count": 47,
   "metadata": {},
   "outputs": [
    {
     "data": {
      "text/plain": [
       "[170, 7335, 5921, 1104, 4028]"
      ]
     },
     "execution_count": 47,
     "metadata": {},
     "output_type": "execute_result"
    }
   ],
   "source": [
    "# check\n",
    "input_ids = inputs['input_ids'][0]\n",
    "input_ids[start_idx : end_idx + 1]"
   ]
  },
  {
   "cell_type": "code",
   "execution_count": 48,
   "metadata": {},
   "outputs": [
    {
     "data": {
      "text/plain": [
       "'a copper statue of Christ'"
      ]
     },
     "execution_count": 48,
     "metadata": {},
     "output_type": "execute_result"
    }
   ],
   "source": [
    "tokenizer.decode(input_ids[start_idx : end_idx + 1])"
   ]
  },
  {
   "cell_type": "code",
   "execution_count": 49,
   "metadata": {},
   "outputs": [],
   "source": [
    "def find_answer_token_idx(\n",
    "    ctx_start,\n",
    "    ctx_end,\n",
    "    ans_start_char,\n",
    "    ans_end_char,\n",
    "    offset):\n",
    "  \n",
    "  start_idx = 0\n",
    "  end_idx = 0\n",
    "\n",
    "  if offset[ctx_start][0] > ans_start_char or offset[ctx_end][1] < ans_end_char:\n",
    "    pass\n",
    "    # print(\"target is (0, 0)\")\n",
    "    # nothing else to do\n",
    "  else:\n",
    "    # find the start and end TOKEN positions\n",
    "\n",
    "    # the 'trick' is knowing what is in units of tokens and what is in\n",
    "    # units of characters\n",
    "\n",
    "    # recall: the offset_mapping contains the character positions of each token\n",
    "\n",
    "    i = ctx_start\n",
    "    for start_end_char in offset[ctx_start:]:\n",
    "      start, end = start_end_char\n",
    "      if start == ans_start_char:\n",
    "        start_idx = i\n",
    "        # don't break yet\n",
    "      \n",
    "      if end == ans_end_char:\n",
    "        end_idx = i\n",
    "        break\n",
    "\n",
    "      i += 1\n",
    "  return start_idx, end_idx"
   ]
  },
  {
   "cell_type": "code",
   "execution_count": 50,
   "metadata": {},
   "outputs": [
    {
     "data": {
      "text/plain": [
       "([53, 17, 0, 0], [57, 21, 0, 0])"
      ]
     },
     "execution_count": 50,
     "metadata": {},
     "output_type": "execute_result"
    }
   ],
   "source": [
    "# try it on all context windows\n",
    "# sometimes, the answer won't appear!\n",
    "\n",
    "start_idxs = []\n",
    "end_idxs = []\n",
    "\n",
    "for i, offset in enumerate(inputs['offset_mapping']):\n",
    "  # the final window may not be full size - can't assume 100\n",
    "  sequence_ids = inputs.sequence_ids(i)\n",
    "\n",
    "  # find start + end of context (first 1 and last 1)\n",
    "  ctx_start = sequence_ids.index(1)\n",
    "  ctx_end = len(sequence_ids) - sequence_ids[::-1].index(1) - 1\n",
    "\n",
    "  start_idx, end_idx = find_answer_token_idx(\n",
    "    ctx_start,\n",
    "    ctx_end,\n",
    "    ans_start_char,\n",
    "    ans_end_char,\n",
    "    offset)\n",
    "\n",
    "  start_idxs.append(start_idx)\n",
    "  end_idxs.append(end_idx)\n",
    "\n",
    "start_idxs, end_idxs"
   ]
  },
  {
   "cell_type": "code",
   "execution_count": 51,
   "metadata": {},
   "outputs": [
    {
     "data": {
      "text/plain": [
       "list"
      ]
     },
     "execution_count": 51,
     "metadata": {},
     "output_type": "execute_result"
    }
   ],
   "source": [
    "type(raw_datasets[\"train\"][\"question\"])"
   ]
  },
  {
   "cell_type": "code",
   "execution_count": 52,
   "metadata": {},
   "outputs": [
    {
     "data": {
      "text/plain": [
       "87599"
      ]
     },
     "execution_count": 52,
     "metadata": {},
     "output_type": "execute_result"
    }
   ],
   "source": [
    "len(raw_datasets[\"train\"][\"question\"])"
   ]
  },
  {
   "cell_type": "code",
   "execution_count": 53,
   "metadata": {},
   "outputs": [
    {
     "data": {
      "text/plain": [
       "1000"
      ]
     },
     "execution_count": 53,
     "metadata": {},
     "output_type": "execute_result"
    }
   ],
   "source": [
    "len(raw_datasets[\"train\"][\"question\"][:1000])"
   ]
  },
  {
   "cell_type": "code",
   "execution_count": 54,
   "metadata": {},
   "outputs": [
    {
     "data": {
      "text/plain": [
       "list"
      ]
     },
     "execution_count": 54,
     "metadata": {},
     "output_type": "execute_result"
    }
   ],
   "source": [
    "type(raw_datasets[\"train\"][\"question\"][:1000])"
   ]
  },
  {
   "cell_type": "code",
   "execution_count": 55,
   "metadata": {},
   "outputs": [
    {
     "data": {
      "text/plain": [
       "'The Basilica of the Sacred heart at Notre Dame is beside to which structure?'"
      ]
     },
     "execution_count": 55,
     "metadata": {},
     "output_type": "execute_result"
    }
   ],
   "source": [
    "raw_datasets[\"train\"][\"question\"][2]"
   ]
  },
  {
   "cell_type": "code",
   "execution_count": 56,
   "metadata": {},
   "outputs": [
    {
     "data": {
      "text/plain": [
       "str"
      ]
     },
     "execution_count": 56,
     "metadata": {},
     "output_type": "execute_result"
    }
   ],
   "source": [
    "type(raw_datasets[\"train\"][\"question\"][2])"
   ]
  },
  {
   "cell_type": "code",
   "execution_count": 57,
   "metadata": {},
   "outputs": [
    {
     "data": {
      "text/plain": [
       "'In what city and state did Beyonce  grow up? '"
      ]
     },
     "execution_count": 57,
     "metadata": {},
     "output_type": "execute_result"
    }
   ],
   "source": [
    "raw_datasets[\"train\"][\"question\"][272]"
   ]
  },
  {
   "cell_type": "code",
   "execution_count": 58,
   "metadata": {},
   "outputs": [
    {
     "data": {
      "text/plain": [
       "['To whom did the Virgin Mary allegedly appear in 1858 in Lourdes France?',\n",
       " 'What is in front of the Notre Dame Main Building?',\n",
       " 'The Basilica of the Sacred heart at Notre Dame is beside to which structure?',\n",
       " 'What is the Grotto at Notre Dame?',\n",
       " 'What sits on top of the Main Building at Notre Dame?',\n",
       " 'When did the Scholastic Magazine of Notre dame begin publishing?',\n",
       " \"How often is Notre Dame's the Juggler published?\",\n",
       " 'What is the daily student paper at Notre Dame called?',\n",
       " 'How many student news papers are found at Notre Dame?',\n",
       " 'In what year did the student paper Common Sense begin publication at Notre Dame?',\n",
       " 'Where is the headquarters of the Congregation of the Holy Cross?',\n",
       " 'What is the primary seminary of the Congregation of the Holy Cross?',\n",
       " 'What is the oldest structure at Notre Dame?',\n",
       " 'What individuals live at Fatima House at Notre Dame?',\n",
       " 'Which prize did Frederick Buechner create?',\n",
       " 'How many BS level degrees are offered in the College of Engineering at Notre Dame?',\n",
       " 'In what year was the College of Engineering at Notre Dame formed?',\n",
       " 'Before the creation of the College of Engineering similar studies were carried out at which Notre Dame college?',\n",
       " 'How many departments are within the Stinson-Remick Hall of Engineering?',\n",
       " 'The College of Science began to offer civil engineering courses beginning at what time at Notre Dame?',\n",
       " 'What entity provides help with the management of time for new students at Notre Dame?',\n",
       " 'How many colleges for undergraduates are at Notre Dame?',\n",
       " 'What was created at Notre Dame in 1962 to assist first year students?',\n",
       " 'Which organization declared the First Year of Studies program at Notre Dame \"outstanding?\"',\n",
       " 'The granting of Doctorate degrees first occurred in what year at Notre Dame?',\n",
       " 'What type of degree is an M.Div.?',\n",
       " 'Which program at Notre Dame offers a Master of Education degree?',\n",
       " 'In what year was a Master of Arts course first offered at Notre Dame?',\n",
       " 'Which department at Notre Dame is the only one to not offer a PhD program?',\n",
       " 'What institute at Notre Dame studies  the reasons for violent conflict?',\n",
       " \"What is the title of Notre Dame's Theodore Hesburgh?\",\n",
       " 'In what year was the Joan B. Kroc Institute for International Peace Studies founded?',\n",
       " 'To whom was John B. Kroc married?',\n",
       " 'What company did Ray Kroc own?',\n",
       " 'How many stories tall is the main library at Notre Dame?',\n",
       " 'What is the name of the main library at Notre Dame?',\n",
       " 'In what year was the Theodore M. Hesburgh Library at Notre Dame finished?',\n",
       " 'Which artist created the mural on the Theodore M. Hesburgh Library?',\n",
       " 'What is a common name to reference the mural created by Millard Sheets at Notre Dame?',\n",
       " 'How many incoming students did Notre Dame admit in fall 2015?',\n",
       " 'What percentage of students were admitted to Notre Dame in fall 2015?',\n",
       " 'Where does Notre Dame rank in terms of academic profile among research universities in the US?',\n",
       " 'What percentage of students at Notre Dame participated in the Early Action program?',\n",
       " 'How many miles does the average student at Notre Dame travel to study there?',\n",
       " 'Where did U.S. News & World Report rank Notre Dame in its 2015-2016 university rankings?',\n",
       " 'Forbes.com placed Notre Dame at what position compared to other US research universities?',\n",
       " 'The undergrad school at the Mendoza College of Business was ranked where according to BusinessWeek?',\n",
       " 'In 2014 what entity named Notre Dame 10th best of all American universities?',\n",
       " 'What percentage of Notre Dame students decide to study abroad?',\n",
       " 'What person was the Director of the Science Museum at Notre Dame in the late 19th century?',\n",
       " 'What was the lifespan of John Augustine Zahm?',\n",
       " 'What program did John Augustine Zahm come to co-direct at Nore Dame?',\n",
       " 'What book did John Zahm write in 1896?',\n",
       " 'What professorship did Father Josh Carrier hold at Notre Dame?',\n",
       " 'In what year did Albert Zahm begin comparing aeronatical models at Notre Dame?',\n",
       " 'Which professor sent the first wireless message in the USA?',\n",
       " 'In what year did Jerome Green send his first wireless message?',\n",
       " 'Which individual worked on projects at Notre Dame that eventually created neoprene?',\n",
       " 'What did the brother of John Zahm construct at Notre Dame?',\n",
       " 'Work on a germ-free-life ended up in the creation of which Notre Dame institute?',\n",
       " 'Around what time did Lobund of Notre Dame become independent?',\n",
       " 'In what year did Lobund at Notre Dame become an Institute?',\n",
       " 'The Lobund Institute was merged into the Department of Biology at Notre Dame in what year?',\n",
       " 'When did study of a germ-free-life begin at Notre Dame?',\n",
       " 'Gurian created what in 1939 at Notre Dame?',\n",
       " 'What was the Review of Politics inspired by?',\n",
       " 'Over how many years did Gurian edit the Review of Politics at Notre Dame?',\n",
       " 'Thomas Stritch was an editor of which publican from Notre Dame?',\n",
       " 'Who was the president of Notre Dame in 2012?',\n",
       " 'The Kellogg Institute for International Studies is part of which university?',\n",
       " 'What does the Kroc Institute at Notre Dame focus on?',\n",
       " 'In what year did Notre Dame begin to host the Global Adaptation Index?',\n",
       " 'What threat does the Global Adaptation Index study?',\n",
       " 'How many undergrads were attending Notre Dame in 2014?',\n",
       " 'What percentage of students at Notre Dame are the children of former Notre Dame students?',\n",
       " 'How many teams participate in the Notre Dame Bookstore Basketball tournament?',\n",
       " 'For what cause is money raised at the Bengal Bouts tournament at Notre Dame?',\n",
       " 'How many students in total were at Notre Dame in 2014?',\n",
       " 'What percentage of undergrads live on the Notre Dame campus?',\n",
       " \"How many student housing areas are reserved for Notre Dame's graduate students?\",\n",
       " 'How many dorms for males are on the Notre Dame campus?',\n",
       " 'What amount of the graduate student body at Notre Dame live on the campus?',\n",
       " 'There are how many dorms for females at Notre Dame?',\n",
       " 'What is Congregation of Holy Cross in Latin?',\n",
       " 'What percentage of Notre Dame students feel they are Christian?',\n",
       " 'How often is Catholic mass held at Notre Dame in a week?',\n",
       " 'How many chapels are on the Notre Dame campus?',\n",
       " 'What amount of the student body of Notre Dame identifies as Catholic?',\n",
       " 'What was the music hall at Notre Dame called?',\n",
       " 'In what year was the Main Building at Notre Dame razed in a fire?',\n",
       " 'Who was the president of Notre Dame in 1879?',\n",
       " 'On what date was the rebuilding of The Main Building begun at Notre Dame after the fire that claimed the previous?',\n",
       " 'What did the Science Hall at Notre Dame come to be known as?',\n",
       " 'What type of education was pushed at Notre Dame before its embracing of national standards?',\n",
       " 'Which college did Notre Dame add in 1921?',\n",
       " 'In 1919 a new president of Notre Dame was named, who was it?',\n",
       " 'Over how many years did the change to national standards undertaken at Notre Dame in the early 20th century take place?',\n",
       " 'Those who attended a Jesuit college may have been forbidden from joining which Law School due to the curricula at the Jesuit institution?',\n",
       " 'The Notre Dame football team got a new head coach in 1918, who was it?',\n",
       " 'What was the amount of wins Knute Rockne attained at Notre Dame while head coach?',\n",
       " 'In what year did the team lead by Knute Rockne win the Rose Bowl?',\n",
       " 'How many years was Knute Rockne head coach at Notre Dame?',\n",
       " 'How many national titles were won when Knute Rockne coached at Notre Dame?',\n",
       " 'Catholic people identified with Notre Dame, what religious group did people feel Yale represented?',\n",
       " 'Notre Dame students had a showdown in 1924 with which anti-catholic group?',\n",
       " 'Which college president of Notre Dame is credited with preventing more confrontations between students and the KKK?',\n",
       " 'What type of event did the Klan intend to have at Notre Dame in March of 1924?',\n",
       " 'Where did Notre Dame students and the KKK have their encounter?',\n",
       " 'Which person became vice-president of Notre Dame in 1933?',\n",
       " 'Who was the president of Notre Dame in 1934?',\n",
       " 'Irvin Abell was given what award by Notre Dame?',\n",
       " 'Which year was the Laetare Medal first given out at Notre Dame?',\n",
       " \"For whos glory did Father O'Hara believed that the Notre Dame football team played?\",\n",
       " 'Around the time that Rev. Cavanaugh became president of Notre Dame by how much did the undergrad student body of Notre Dame increase?',\n",
       " 'Which institute involving animal life did Cavanaugh create at Notre Dame?',\n",
       " \"What is O'Shaughnessy Hall of Notre Dame formerly known as?\",\n",
       " 'Which president did Notre Dame have in 1947?',\n",
       " 'Outside of an institute studying animals, what other institute did Cavanugh create at Notre Dame?',\n",
       " 'What was the lifespan of Theodore Hesburgh?',\n",
       " 'In the time that Hesburgh was president of Notre Dame by what factor did the operating budget increase?',\n",
       " 'What was the size of the Notre Dame endowment when Theodore Hesburgh became president?',\n",
       " 'During what years was Theodor Hesburgh president of Notre Dame?',\n",
       " 'How many faculty members were at Notre Dame when Hesburgh left the role of president?',\n",
       " 'What type of educational institute is Hesburgh given credit for creating at Notre Dame?',\n",
       " 'Which role did Charles Sheedy have at Notre Dame?',\n",
       " 'What title did Thomas Blantz have at Notre Dame?',\n",
       " 'In what year did Notre Dame have its earliest undergraduate that was female?',\n",
       " 'With what institute did Notre Dame agree to an exchange program in the 1960s?',\n",
       " 'During what years was Edward Malloy president of Notre Dame?',\n",
       " 'What was the SAT score, on average, at Notre Dame when Edward Malloy became president?',\n",
       " 'When Malloy became president of Notre Dame what was the size of the endowment?',\n",
       " 'When Malloy reached the end of his time as president how much annuals funding for research did Notre Dame have?',\n",
       " 'The amount of professors at Notre Dame increased by what amount under Malloy?',\n",
       " 'When did John Jenkins become the president of Notre Dame?',\n",
       " 'In terms of the amount of presidents Notre Dame has had, where is John Jenkins on the list?',\n",
       " 'Who was the Notre Dame president that preceded John Jenkins?',\n",
       " 'Which arena was constructed under Jenkins at Notre Dame?',\n",
       " 'How much money was spent on enhancing Notre Dame Stadium under John Jenkins?',\n",
       " 'Which congregation is in charge of the Old College at Notre Dame?',\n",
       " 'What structure is found on the location of the original church of Father Sorin at Notre Dame?',\n",
       " 'In which architectural style is the Basilica of the Sacred Heart at Notre Dame made?',\n",
       " 'Which individual painted the inside of the Basilica of the Sacred Heart at Notre Dame?',\n",
       " 'In what year was the Grotto of Our Lady of Lourdes at Notre Dame constructed?',\n",
       " 'Which person oversaw the creation of a science hall at Notre Dame in 1883?',\n",
       " 'In what year did the student union building at Notre Dame get renamed to LaFortune Center?',\n",
       " 'After which individual was the LaFortune Center Notre Dame named?',\n",
       " 'How large in square feet is the LaFortune Center at Notre Dame?',\n",
       " \"What is the annual budget of Notre Dame's LaFortune Center?\",\n",
       " 'How many halls are at Notre Dame that house students?',\n",
       " 'Which library was built at Notre Dame in 1963?',\n",
       " 'How many books are housed at the Theodore Hesburgh Library?',\n",
       " 'Construction for which hall started on March 8th 2007 at Notre Dame?',\n",
       " 'Which baseball stadium is found at Notre Dame?',\n",
       " 'In what year did Notre Dame create the Office of Sustainability?',\n",
       " 'What percentage of the food served at Notre Dame is locally grown?',\n",
       " 'Notre Dame got a \"B\" for its sustainability practices from which entity?',\n",
       " 'Gustavo Gutierrez is faculty of which institute?',\n",
       " 'In what year did Notre Dame first have a facility in England?',\n",
       " 'At which location is the London Center operated by Notre Dame found?',\n",
       " 'Notre Dame has a center in Beijing, what is it referred to as?',\n",
       " 'In what year did the Suffolk Street location start to house a Notre Dame facility?',\n",
       " \"What was Notre Dame's first college?\",\n",
       " 'In what year was the The College of Arts and Letters at Notre Dame created?',\n",
       " 'In what year did the College of Arts and Letters at Notre Dame grant its first degree?',\n",
       " 'On which university did Notre Dame base its curriculum on?',\n",
       " 'How many BA majors does the College of Arts and Letters at Notre Dame offer?',\n",
       " 'Which president at Notre Dame created the College of Science?',\n",
       " 'In what year was the Notre Dame College of Science formed?',\n",
       " 'How many years long was a scientific course under Patrick Dillon at Notre Dame?',\n",
       " 'Which hall at Notre Dame contains the current College of Science?',\n",
       " 'How many undergrad students attend the College of Science at Notre Dame today?',\n",
       " 'In 1899 Notre Dame formed which college?',\n",
       " 'In what building is the current School of Architecture housed at Notre Dame?',\n",
       " 'What length is the course of study at the Notre Dame School of Architecture?',\n",
       " 'In which location do students of the School of Architecture of Notre Dame spend their 3rd year?',\n",
       " 'Which prestigious prize does the School of Architecture at Notre Dame give out?',\n",
       " 'In what year did the opening of a theology library at Notre Dame occur?',\n",
       " 'Where is the theology library at Notre Dame?',\n",
       " 'How many books are held by the Notre Dame libraries?',\n",
       " \"Currently where does Notre Dame's library rank in the nation?\",\n",
       " 'What caused many intellectual Catholics to leave europe in the 1930s?',\n",
       " 'From where did Anton-Hermann Chroust come to reach Notre Dame?',\n",
       " 'What field of study did Anton-Hermann Chroust specialize in?',\n",
       " 'Who did Waldemar Gurian receive his tutelage under while seeking his doctorate?',\n",
       " 'What was Ivan Meštrović known for being?',\n",
       " 'The school known as Notre Dame is known by a more lengthy name, what is it?',\n",
       " 'What type of institution is the Notre Dame?',\n",
       " 'The French words Notre Dame du Lac translate to what in English?',\n",
       " 'Who is the patron saint of Notre Dame?',\n",
       " 'How large is Notre Dame in acres?',\n",
       " 'What caused Notre Dame to become notable in the early 20th century?',\n",
       " 'Which 20th century Notre Dame football coach is most notable?',\n",
       " 'Which athletic association are the student athletes at Notre Dame a part of?',\n",
       " 'How many students at Notre Dame received the Heisman Trophy?',\n",
       " 'There were multiple students from Notre Dame who entered the Pro Football Hall of Fame, how many?',\n",
       " 'Where among US universities does Notre Dame rank?',\n",
       " 'How many individual colleges are part of Notre Dame?',\n",
       " 'Which prize does the Architecture School at Notre Dame give out?',\n",
       " 'How many doctorate and masters programs are available at Notre Dame?',\n",
       " 'Which art museum does Notre Dame administer?',\n",
       " 'In what year was Father Edward Sorin given two years to create a college?',\n",
       " 'Which individual offered land to Father Edward Sorin?',\n",
       " 'Which church was Father Edward Sorin representing?',\n",
       " 'On what date did brothers from Holy Cross arrive at the future location of Notre Dame?',\n",
       " 'Which structure was the first used for the purposes of the college?',\n",
       " 'In what year did the initial degrees get handed out at Notre Dame?',\n",
       " 'In what year did the original Sorin built Main Building get replaced?',\n",
       " 'Which individual began a library at Notre Dame?',\n",
       " 'In what year had the library at Notre Dame reach 10,000 books?',\n",
       " 'In what year was the library at Notre Dame started?',\n",
       " 'Which television station finds its home at Notre Dame?',\n",
       " 'How many programs did NDtv feature in 2002?',\n",
       " 'Which radio station provides radio to the students of Notre Dame at 88.9 FM?',\n",
       " 'Which internet radio station of Notre Dame is served as an internet stream?',\n",
       " 'How much is Eddy Street Commons at Notre Dame expected to cost?',\n",
       " 'When was ground broke on the Eddy Street Commons Project of Notre Dame?',\n",
       " 'Who is the developer of Eddy Street Commons?',\n",
       " 'Which entity did Notre Dame hire to build a parking structure outside of Eddy Street Commons?',\n",
       " 'There were protested as a part of the construction at Eddy Street Commons, they came due tot he hiring of whom?',\n",
       " 'What does the acronym NCAA stand for?',\n",
       " 'Which league did Notre Dame Fighting Irish teams participate in in 1982?',\n",
       " 'What when conference do the Notre Dame fencing teams take part in?',\n",
       " 'There is a conference that the male hockey team of Notre Dame competes in, what is it?',\n",
       " 'In what conference did the Fighting Irish take part in in 2012?',\n",
       " 'To what conference did the Fighting Irish go after the Big East?',\n",
       " 'How many teams in each season do the Fighting Irish commit to play against ACC opponents?',\n",
       " 'Where did the Fighting Irish hockey team compete prior to a move to Hockey East, in terms of conference?',\n",
       " 'What colors are the official ones used by Notre Dame in sport competition?',\n",
       " 'What type of mascot do the Notre Dame sport teams have?',\n",
       " 'Who currently provides uniforms to Notre Dame sport teams?',\n",
       " 'What is the value of the contract between Under Armour and Notre Dame?',\n",
       " 'When did the Notre Dame marching band form?',\n",
       " 'What is notable about the Notre Dame marching band?',\n",
       " 'What is the Notre Dame fight song?',\n",
       " \"Which team did Notre Dame's football team find inspiration from?\",\n",
       " 'In what year did Notre Dame football begin?',\n",
       " 'What university is Notre Dame tied with in terms of most Heisman Trophy winners?',\n",
       " 'Against which team does Notre Dame compete for the Jeweled Shillelagh?',\n",
       " 'In terms of Notre Dame students in the College Football Hall of Fame the amount of students named is what ?',\n",
       " 'What notable football player played at Notre Dame from 1916 to 1920?',\n",
       " 'Against which opponent did Knute Rockne tell his team to \"win one for the Gipper?\"',\n",
       " 'Which person portrayed Knute Rockne in the 1940 movie \"Knute Rockne?\"',\n",
       " 'Ronald Reagan played the role of whom in 1940\\'s \"Knute Rockne?\"',\n",
       " 'How many seats are in Notre Dame Stadium?',\n",
       " 'What is displayed at Zahm House for football home games at Notre Dame?',\n",
       " 'What occurs at midnight preceding a football home game at Notre Dame?',\n",
       " 'From where does the Band of the Fighting Irish lead a march to the Notre Dame Stadium for football home games?',\n",
       " 'What songs does the trumpet section of the Band of the Fighting Irish play preceding home football games?',\n",
       " 'On what day do Notre Dame home football games occur?',\n",
       " \"How many wins does the Notre Dame men's basketball team have?\",\n",
       " \"How many schools have a similar men's basketball record to Notre Dame in terms of wins?\",\n",
       " \"How many NCAA tournaments did the Notre Dame men's basketball team take part in?\",\n",
       " \"Which Notre Dame men's basketball player has the record for more points in one game?\",\n",
       " \"Who was the Notre Dame men's basketball coach in 2014?\",\n",
       " 'Who wrote the original lyrics to the Notre Dame Victory March?',\n",
       " 'In what year did Michael J. Shea graduate from Notre Dame?',\n",
       " 'Who is responsible for writing the music for \"Notre Dame Victory March?\"',\n",
       " 'In what year did \"Notre Dame Victory March\" get copyrighted?',\n",
       " 'To where are the loyal sons in \"Notre Dame Fight Song\" marching?',\n",
       " 'Ronald Reagan had a nickname, what was it?',\n",
       " 'In what film did a parody of the \"Win one for the Gipper\" speech appear?',\n",
       " 'Who starred as Daniel Ruettiger in the film Rudy?',\n",
       " 'Which person was a former comrade to Ted Striker in the film Airplane!?',\n",
       " \"Pat O'Brien portrayed which person in the film Knute Rockne?\",\n",
       " 'Which Secretary of State attended Notre Dame?',\n",
       " 'Which Notre Dame alum from the College of Science won a Nobel Prize?',\n",
       " 'Who is the current president of Notre Dame?',\n",
       " 'Mariel Zagunis is notable for winning what?',\n",
       " 'Which notable astronaut is known to have attended Notre Dame?',\n",
       " 'When did Beyonce start becoming popular?',\n",
       " 'What areas did Beyonce compete in when she was growing up?',\n",
       " \"When did Beyonce leave Destiny's Child and become a solo singer?\",\n",
       " 'In what city and state did Beyonce  grow up? ',\n",
       " 'In which decade did Beyonce become famous?',\n",
       " 'In what R&B group was she the lead singer?',\n",
       " 'What album made her a worldwide known artist?',\n",
       " \"Who managed the Destiny's Child group?\",\n",
       " 'In what city did Beyonce grow up?',\n",
       " \"What was the name of Beyonce's first solo album?\",\n",
       " 'On what date was Beyonce born?',\n",
       " \"What is Beyonce's full name?\",\n",
       " 'When did Beyoncé rise to fame?',\n",
       " \"What role did Beyoncé have in Destiny's Child?\",\n",
       " 'What was the first album Beyoncé released as a solo artist?',\n",
       " 'When did Beyoncé release Dangerously in Love?',\n",
       " 'How many Grammy awards did Beyoncé win for her first solo album?',\n",
       " \"What was Beyoncé's role in Destiny's Child?\",\n",
       " \"What was the name of Beyoncé's first solo album?\",\n",
       " 'When did Beyoncé release her first solo album?',\n",
       " 'After her second solo album, what other entertainment venture did Beyonce explore?',\n",
       " 'Which artist did Beyonce marry?',\n",
       " 'To set the record for Grammys, how many did Beyonce win?',\n",
       " 'For what movie did Beyonce receive  her first Golden Globe nomination?',\n",
       " 'When did Beyonce take a hiatus in her career and take control of her management?',\n",
       " 'Which album was darker in tone from her previous work?',\n",
       " 'After what movie portraying Etta James, did Beyonce create Sasha Fierce?',\n",
       " \"When did Destiny's Child end their group act?\",\n",
       " \"What was the name of Beyoncé's second solo album?\",\n",
       " \"What was Beyoncé's first acting job, in 2006?\",\n",
       " 'Who is Beyoncé married to?',\n",
       " \"What is the name of Beyoncé's alter-ego?\",\n",
       " 'In her music, what are some recurring elements in them?',\n",
       " 'Time magazine named her one of the most 100 what people of the century?',\n",
       " 'Which magazine declared her the most dominant woman musician?',\n",
       " 'In which decade did the Recording Industry Association of America recognize Beyonce as the The Top Certified Artist?',\n",
       " 'What magazine rated Beyonce as the most powerful female musician in 2015?',\n",
       " 'How did Beyonce describe herself as a feminist?',\n",
       " 'In which years did Time rate Beyonce in the 100 most influential people in the world?',\n",
       " 'How many records has Beyonce sold in her 19 year career?',\n",
       " \"How many records did Beyoncé sell as part of Destiny's Child?\",\n",
       " \"After leaving Destiny's Child, how many records did Beyoncé release under her own name?\",\n",
       " 'How many Grammy awards has Beyoncé won?',\n",
       " 'What magazine named Beyoncé as the most powerful female musician for 2015?',\n",
       " \"Beyonce's younger sibling also sang with her in what band?\",\n",
       " 'Where did Beyonce get her name from?',\n",
       " \"What race was Beyonce's father?\",\n",
       " \"Beyonce's childhood home believed in what religion?\",\n",
       " \"Beyonce's father worked as a sales manager for what company?\",\n",
       " \"Beyonce's mother worked in what industry?\",\n",
       " \"What younger sister of Beyonce also appeared in Destiny's Child?\",\n",
       " 'Beyonce is a descendent of what Arcadian leader?',\n",
       " \"What company did Beyoncé's father work for when she was a child?\",\n",
       " \"What did Beyoncé's mother own when Beyoncé was a child?\",\n",
       " \"What is the name of Beyoncé's younger sister?\",\n",
       " 'Beyoncé is a descendant of which Acadian leader?',\n",
       " 'Beyoncé was raised in what religion?',\n",
       " 'What town did Beyonce go to school in?',\n",
       " \"Who was the first person to notice Beyonce's singing ability?\",\n",
       " 'Beyonce moved to which town after she left her first elementary school?',\n",
       " \"Which of her teachers discovered Beyonce's musical talent?\",\n",
       " 'I which church was Beyonce  a member and soloist  in the choir?',\n",
       " 'What type of school was Parker Elementary School?',\n",
       " 'Which song did Beyonce sing to win a competition at age 7?',\n",
       " \"What city was Beyoncé's elementary school located in?\",\n",
       " \"What was the name of Beyoncé's first dance instructor?\",\n",
       " 'How old was Beyoncé when she won a school talent show?',\n",
       " 'What choir did Beyoncé sing in for two years?',\n",
       " \"Who decided to place Beyonce's group in Star Search the talent show?\",\n",
       " 'In 1995, who decided to manage the girls singing group?',\n",
       " 'Who was the first record label to give the girls a record deal?',\n",
       " 'Who brought Beyonce to California and enter her group in Star Search?',\n",
       " \"In what year did Beyonce's father quit his job to manage her group?\",\n",
       " \"What large record company recorded Beyonce's group's first album?\",\n",
       " \"What record company first signed Beyonce's group and later cut them?\",\n",
       " 'At what age did Beyonce meet LaTavia Robertson?',\n",
       " 'How old was Beyoncé when she met LaTavia Roberson?',\n",
       " 'What was the name of the first group Beyoncé was a part of?',\n",
       " \"Who placed Girl's Tyme in Star Search?\",\n",
       " 'When did Beyoncé begin to manage the girl group?',\n",
       " 'Who signed the girl group on October 5, 1995?',\n",
       " \"Which film featured Destiny's Child's first major single?\",\n",
       " \"For which song, did Destiny's Child take home the grammy award for best R&B performance?\",\n",
       " 'Who did Beyonce record with for the movie \"The Best Man?\"',\n",
       " \"Beyonce's group changed their name to Destiny's Child in what year?\",\n",
       " \"The name Destiny's Child was based on a quote in which book of the Bible?\",\n",
       " 'Debut song, \"Killing Time\" was featured on what movie\\'s sound track?',\n",
       " 'What song won Best R&B Performance in the 43 Annual Grammy Awards?',\n",
       " 'What singer did Beyonce record a song with for the movie, \\'\\'The Best Man\"?',\n",
       " \"Where did Destiny's Child get their name from?\",\n",
       " \"Destiny's Child song, Killing Time, was included in which film's soundtrack?\",\n",
       " \"What was Destiny's Child's first major song hit?\",\n",
       " \"When did Destiny's Child release their second album?\",\n",
       " 'Who did Beyoncé sing a duet with for \"The Best Man\" film?',\n",
       " 'What mental health issue did Beyonce go through?',\n",
       " 'What event occured after she was publicly criticized?',\n",
       " 'Who supported Beyonce through her depression?',\n",
       " \"What event caused Beyonce's depression?\",\n",
       " 'How long was Beyonce depressed?',\n",
       " 'Who helped Beyonce fight her depression the most?',\n",
       " \"Who replaced Luckett and Roberson in Destiny's Child?\",\n",
       " \"Who was blamed for Luckett and Roberson leaving Destiny's Child?\",\n",
       " \"Who helped Beyoncé overcome her depression during the years following the Destiny's Child split?\",\n",
       " \"Which newest member was removed from Destiny's Child?\",\n",
       " '\"Charlie\\'s Angels\" featured which single from the band members?',\n",
       " 'How many weeks did their single \"Independent Women Part I\" stay on top?',\n",
       " 'For what network, did Beyonce land a major movie role in?',\n",
       " 'Their third album, Survivor, sold how many during its first week?',\n",
       " \"What French composer wrote the original opera ''Carmen'' in the 19th century?\",\n",
       " 'What album caused a lawsuit to be filed in 2001?',\n",
       " \"Independent Women Part I was on which 2000 film's soundtrack?\",\n",
       " 'Which film did Beyoncé star in 2001 with Mekhi Phifer?',\n",
       " \"What was the name of Destiny Child's third album?\",\n",
       " 'Who filed a lawsuit over Survivor?',\n",
       " \"When did Destiny's Child announce their hiatus?\",\n",
       " 'Who did Beyonce star with in the movie, \"Austin Powers in Goldmember\"?',\n",
       " 'Which three countries did Beyonce\\'s song \"Work It Out\" achieve top ten status?',\n",
       " 'Beyonce starred with Cuba Gooding Jr. in which film?',\n",
       " 'Who did Beyonce record the lead single with in the movie \"The Fighting Temptations\"?',\n",
       " 'Which other song from the soundtrack did better in the charts?',\n",
       " 'What film did Beyonce appear in with Mike Myers?',\n",
       " 'What large amount did the movie \"Goldmember\" gross?',\n",
       " 'What genre of movie did Beyonce star in with Cuba Gooding, Jr?',\n",
       " \"What song was the lead single from the film's sound track?\",\n",
       " \"How did the critics view the movie, ''The Fighting Temptations''?\",\n",
       " 'What film did Beyoncé star in with Mike Myers in 2002?',\n",
       " \"What was Beyoncé's character called in Austin Powers in Goldmember?\",\n",
       " \"Which song did Beyoncé release as the lead single for Austin Powers in Goldmember's soundtrack?\",\n",
       " 'What musical comedy did Beyoncé star in along with Cuba Gooding, Jr. in 2003?',\n",
       " 'What song did Beyoncé release as the lead single from The Fighting Tempations?',\n",
       " \"What was the highest Beyonce's first solo recording achieved in the Billboard Hot 100?\",\n",
       " \"Beyonce's first album by herself was called what?\",\n",
       " 'How many has \"Dangerously in Love\" sould worldwide since its debut?',\n",
       " \"Beyonce's first number one song was which song?\",\n",
       " 'How many top five singles came from her first album?',\n",
       " \"Beyonce's first solo album in the U.S. with what artist in the lead single?\",\n",
       " 'What solo album did Beyonce release in 2003?',\n",
       " ' The album, Dangerously in Love  achieved what spot on the Billboard Top 100 chart?',\n",
       " '\"The Closer I get to You\" was recorded with which artist?',\n",
       " \"Which artist was associated with Beyoncé's premiere solo recording?\",\n",
       " 'When did Beyoncé release her first solo album?',\n",
       " \"What is the lead single on Beyoncé's first album?\",\n",
       " 'Who helped Beyoncé earn a Grammy award for Best R&B Performance by a Duo or Group at the 46th annual Grammy Awards?',\n",
       " \"How many awards did Beyoncé win at the 46th Grammy's Awards?\",\n",
       " \"Destiny's Child's final album was named what?\",\n",
       " \"Destiny's Child got a star on the Hollywood Walk of Fame in what year?\",\n",
       " 'In what year did Beyonce embark on her Dangerously in Love tour of Europe?',\n",
       " \"What was the name of the final album of Destiny's Child?\",\n",
       " \"It was announced that Destiny's Child would  disban in what European city?\",\n",
       " \"When did Destiny's Child get their star on the Hollywood Walk of Fame?\",\n",
       " \"What was the name of Beyoncé's European start that started in November 2003?\",\n",
       " 'Who did Beyoncé tour with for the Verizon Lades First Tour?',\n",
       " 'What major event did Beyoncé perform at on February 1, 2004?',\n",
       " \"What is the name of the final studio album from Destiny's Child?\",\n",
       " 'How many albums did Beyonce sell in the first week when she released her second album?',\n",
       " 'The lead single from the album was which song?',\n",
       " 'How many countries did her song \"Irreplaceable\" get number one status in?',\n",
       " 'How many singles did her second album produce?',\n",
       " \"What birthday did Beyonce's album B'Day celebrate?\",\n",
       " 'What artist did Beyonce duet with in the single, \"Deja Vu\\'\\'?',\n",
       " \"How high did ''Deja Vu'' climb on the Billboard chart?\",\n",
       " \"What is the name of Beyoncé's second album?\",\n",
       " \"How many copies did B'Day sell during the first week of its release?\",\n",
       " 'Who collaborated with Beyoncé on the single, Deja Vu?',\n",
       " \"Which single from B'Day was only released in the U.K.?\",\n",
       " 'What movie did Beyonce act in 2006?',\n",
       " 'Her second movie Beyonce did was what film?',\n",
       " 'The single, \"Listen\" was featured in which movie?',\n",
       " \"Beyonce's first world tour was when?\",\n",
       " \"How much money did Beyonce's tour make in 2007?\",\n",
       " \"How many millions of dollars did ''The Pink Panther'' gross world-wide?\",\n",
       " 'What did Beyonce call her first concert tour?',\n",
       " \"Who was Beyonce's duet with in ''Beautiful Liar''?\",\n",
       " 'Which film did Beyoncé star with Steve Martin in?',\n",
       " \"Beyoncé's role in Dreamgirls was based on what pop singer?\",\n",
       " 'What was the lead single for the Dreamgirls soundtrack?',\n",
       " \"What was the name of Beyoncé's first international tour?\",\n",
       " 'What pop singer did a duet with Beyoncé on Beautiful Liar?',\n",
       " 'Beyonce got married in 2008 to whom?',\n",
       " 'Her third album, \"I am...Sasha Fierce\" was released when?',\n",
       " 'For which decade, did Beyonce have more top ten songs than any other woman?',\n",
       " 'Which singer beat out Beyonce for best video performance?',\n",
       " 'In 2009, Beyonce started her second world tour and grossed how much money?',\n",
       " 'How did she reveal the marriage?',\n",
       " 'When did Beyonce begin her second world tour?',\n",
       " 'Who beat out Beyonce for Best Female Video ?',\n",
       " 'How much did the second world tour make in dollars?',\n",
       " 'When did Beyoncé get married?',\n",
       " 'Who did Beyoncé marry?',\n",
       " \"Who is Beyoncé's alter ego?\",\n",
       " 'The video for what song won Beyoncé the 2009 MTV Video of the Year award?',\n",
       " 'Which prominent star felt the 2009 Female Video of the Year award should have went to Beyoncé instead of Taylor Swift?',\n",
       " 'Beyonce portrayed which character in the film, Cadillac Records?',\n",
       " 'Beyonce gave her entire salary from Cadillac Records to which organization?',\n",
       " \"Which song did Beyonce sing at the first couple's inaugural ball? \",\n",
       " 'What genre of film was the movie, Obsessed, in which Beyonce starred in?',\n",
       " 'A fight scene from the movie, Obsessed, won which award for Beyonce?',\n",
       " 'Where did Beyonce donate her salary from the movie Cadillac Records?',\n",
       " 'What thriller film did Beyonce star in?',\n",
       " 'What was the name of the woman she played in Obsessed?',\n",
       " 'How much more that the buget did the film gross?',\n",
       " 'Which singer did Beyoncé portray in Cadillac Records?',\n",
       " \"Which organization received Beyoncé's entire Cadillac Records salary?\",\n",
       " 'Where did Beyoncé perform on January 20, 2009?',\n",
       " 'Which thriller film did Beyoncé star in with Ali Larter?',\n",
       " 'How many awards was Beyonce nominated for at the 52nd Grammy Awards?',\n",
       " 'Beyonce tied with which artist for most nominations by a female artist?',\n",
       " 'In 2010, Beyonce worked with which other famous singer?',\n",
       " 'How many number one singles did Beyonce now have after the song \"Telephone\"?',\n",
       " 'Beyonce tied who for most number one singles by a female?',\n",
       " 'Beyonce received how many nominations at the 52nd Annual Grammy Awards?',\n",
       " 'What song was the sixth first place song for Beyonce?',\n",
       " 'Who else appeared with Beyonce in Telephone?',\n",
       " 'Who did they tie with for six top songs?',\n",
       " 'Who did Beyonce tie with for the most nominations in a year?',\n",
       " 'How many nominations did Beyoncé receive at the 52nd Grammy Awards ceremony?',\n",
       " 'Who did Beyoncé tie with for the most Grammy nominations for female artists?',\n",
       " \"Beyoncé was a featured artist on which singer's hit, Telephone?\",\n",
       " 'Who did Beyoncé and Lady Gaga tie with for the most number one hits since 1992?',\n",
       " 'Beyonce would take a break from music in which year?',\n",
       " 'Which year did Beyonce and her father part business ways?',\n",
       " 'Which famous landmark did Beyonce see in China?',\n",
       " 'In what year did Beyonce have her hiatus?',\n",
       " 'Who inspired this hiatus?',\n",
       " 'When did she stop using her father as a manager?',\n",
       " 'How long did the hiatus last?',\n",
       " 'What did Beyoncé announce in January 2010?',\n",
       " 'Who suggested the hiatus for Beyoncé?',\n",
       " 'Who did Beyoncé part ways with during her hiatus?',\n",
       " 'How long did her hiatus last?',\n",
       " 'In which year was reports about Beyonce performing for Muammar Gaddafi surface?',\n",
       " 'Who did Beyonce donate the money to earned from her shows?',\n",
       " 'Beyonce became the first female artist to perform solo in 20 years at which stage?',\n",
       " \"Which organization did Beyonce's spokespeople confirm her donations to?\",\n",
       " 'Beyonce was listed in 2011 as the highest paid performer per what?',\n",
       " 'Hoe did everyone learn that Beyonce performed for Kaddafi?',\n",
       " 'When did this leak happen?',\n",
       " 'Who did she tell about the donation?',\n",
       " 'Where did Beyonce perform in 2011?',\n",
       " 'Who did Beyoncé perform privately for in 2011?',\n",
       " \"Who released the information about Beyoncé's performance for the Libyan ruler?\",\n",
       " 'Which organization did Beyoncé donate her pay for the private performance to?',\n",
       " 'Beyoncé was the first female singer to headline what at the 2011 Glastonbury Festival?',\n",
       " \"Beyonce's fourth album debuted in what year?\",\n",
       " 'Which single had the most success from that album?',\n",
       " 'Beyonce won an award for which activity in 2011?',\n",
       " 'in 2011, Beyonce performed for four nights where?',\n",
       " \"When was Beyonce's forth album released?\",\n",
       " 'How many copies did the album sell in its first week?',\n",
       " 'Who awarded Beyonce and award for writing?',\n",
       " 'When did she perform at the Roseland ballroom?',\n",
       " \"What is the name of Beyoncé's fourth studio album?\",\n",
       " 'When was 4 released?',\n",
       " 'How many copies of 4 sold in the first week?',\n",
       " 'What magazine did Beyoncé write a story for about her earlier hiatus?',\n",
       " 'Where did Beyoncé perform for four nights of standing room only concerts in 2011?',\n",
       " 'When did Beyonce have her first child?',\n",
       " 'Where did Beyonce give birth to her first child?',\n",
       " \"Beyonce's first child is named what?\",\n",
       " 'Her first appearance performing since giving birth was where?',\n",
       " 'When did Beyonce have her first child?',\n",
       " \"What was the child's name?\",\n",
       " 'How long was it after the birth of her child before she performed again?',\n",
       " 'How many nights did she perform at Atlantic City?',\n",
       " 'When did Beyoncé give birth to a daughter?',\n",
       " 'What did Beyoncé name her daughter?',\n",
       " 'Where was Blue Ivy born?',\n",
       " \"Where was Beyoncé's first public performance after giving birth?\",\n",
       " 'How many nights did Beyoncé play at the resort?',\n",
       " \"Destiny's Child released a compilation album about which topic?\",\n",
       " \"Beyonce's documentary movie was called what?\",\n",
       " 'What did Beyonce sign in 2013?',\n",
       " 'When did Destiny\\'s Child release its album \"Love Songs\"?',\n",
       " 'What was the title of the added track in Love Songs?',\n",
       " 'At whose inauguration did she perform the National Anthem?',\n",
       " 'How many Tweets per minute did the half time show get?',\n",
       " \"When did Destiny's Child release Love Songs?\",\n",
       " 'What was the new track for Love Songs?',\n",
       " \"What did Beyoncé sing at President Obama's second inauguration?\",\n",
       " \"What event did Beyoncé perform at one month after Obama's inauguration? \",\n",
       " \"What is the name of Beyoncé's documentary film?\",\n",
       " 'How many dates did Beyonce\\'s \"The Mrs. Carter Show\" entail?',\n",
       " \"One of Beyonce's most successful tours yet was which one?\",\n",
       " 'Beyonce wrote which song for the movie \"Epic\"?',\n",
       " 'Beyonce voiced a character in which animated film?',\n",
       " 'When did the tour begin?',\n",
       " 'Of what event was Beyonce honorary chair?',\n",
       " 'What part did she voice for the movie Epic?',\n",
       " 'What song did Beyonce record for the film Epic?',\n",
       " \"What was the name of Beyoncé's tour that she started on April 15?\",\n",
       " 'How many dates did the Mrs. Carter Show World Tour have?',\n",
       " 'Which Amy Winehouse song did Beyoncé cover and release in May 2014?',\n",
       " 'Beyoncé was an honorary chair of the 2013 what?',\n",
       " 'Which character in the film, Epic, was voiced by Beyoncé?',\n",
       " 'Where did Beyonce release her 5th album to a huge surprise?',\n",
       " 'When did Beyonce get her fifth consecutive number one hit album?',\n",
       " 'Where was the album released? ',\n",
       " 'Who joined Beyonce on her On The Run Tour?',\n",
       " 'Who reported Beyonce to e the top earning woman in music?',\n",
       " 'How much more were her earnings that the year before?',\n",
       " 'When did Beyoncé release her fifth studio album?',\n",
       " 'How many digital copies of her fifth album did Beyoncé sell in six days?',\n",
       " \"What song on Beyoncé's fifth studio album featured her husband?\",\n",
       " 'What was the name of the tour featuring both Beyoncé and Jay Z?',\n",
       " 'How many awards did Beyonce take home with her at the 57th Grammy Awards?',\n",
       " 'Which artist beat Beyonce out for Album of the year?',\n",
       " 'Which magazine did Beyonce pose on the cover for in August of 2015?',\n",
       " 'Beyonce would perform with who at Superbowl 50?',\n",
       " 'Beyonce took home how many awards at the 57th Grammy Awards?',\n",
       " 'Beyonce lost to which artist for Album of the year?',\n",
       " 'Who did Beyonce perform next to during Superbowl 50?',\n",
       " 'If Beyonce won three Grammies in 2015, how many was she nominated for?',\n",
       " 'On what magazine was she the cover model?',\n",
       " 'Who would she perform with at Superbowl 50?',\n",
       " 'With what British band did Beyonce perform on their album?',\n",
       " 'How many awards was Beyoncé nominated for at the 57th annual Grammys?',\n",
       " 'How many awards did Beyoncé win at the 57th Annual Grammys?',\n",
       " 'Beyoncé lost the Album of the Year award to which entertainer?',\n",
       " 'Which magazine did Beyoncé pose for the cover, making her the first black female artist to do so?',\n",
       " 'Who did Beyonce perform with at Super Bowl 50?',\n",
       " 'Beyonce released the song \"Formation\" on which online music service?',\n",
       " \"Beyonce's new single released before the super bowl was called what?\",\n",
       " 'What day did Beyonce release her single, Formation?',\n",
       " 'How was the single released?',\n",
       " 'What was the name of the streaming service?',\n",
       " 'What kind of platform was the song released?',\n",
       " 'When did Beyoncé release Formation?',\n",
       " 'Where did Beyoncé exclusively release her single, Formation?',\n",
       " 'As of April 2014, how many albums have Jay Z and Beyonce sold together?',\n",
       " 'Where did Beyonce become pregnant?',\n",
       " 'Beyonce described what as the \"hardest thing she had to endure\"?',\n",
       " 'Who did Beyonce have a relationship with?',\n",
       " 'When were Beyonce and Jay Z married?',\n",
       " 'Together how records have they sold ?',\n",
       " 'How did Beyonce deal with the miscarriage of her child?',\n",
       " 'Where was Beyonce when she became pregnant?',\n",
       " \"In which music video did Beyoncé star as Jay Z's girlfriend, creating speculation about their relationship?\",\n",
       " 'When were Beyoncé and Jay Z married?',\n",
       " 'How many records combined have Beyoncé and Jay Z sold?',\n",
       " 'What did Beyoncé describe as the saddest thing in her life?',\n",
       " 'Where did Beyoncé get pregnant?',\n",
       " 'Jay Z and Beyonce attended which event together in August of 2011?',\n",
       " 'Beyonce confirmed what after performing one of her songs?',\n",
       " 'How many people watched the 2011 MTV Music Awards?',\n",
       " 'Where did she announce her pregnancy?',\n",
       " 'Why was the broadcast the most-watched in history?',\n",
       " 'What even was recorded in the Guinness World Records?',\n",
       " 'What was the most searched term in week of Aug 29, 2011?',\n",
       " 'What song did she perform at the MTV Awards?',\n",
       " 'Where did Beyoncé announce her pregnancy?',\n",
       " 'What song did Beyoncé sing prior to announcing her pregnancy?',\n",
       " 'How many people watched the 2011 MTV Video Music Awards?',\n",
       " 'What was the most searched term on Google for the week of August 29, 2011?',\n",
       " 'Jay Z has a website called what?',\n",
       " 'Which song by Jay Z talked about the pregnancy struggles?',\n",
       " \"What was the name of Beyonce's daughter?\",\n",
       " 'At what hospital was the baby delivered?',\n",
       " 'What was the named of the song  dedicated to the child?',\n",
       " 'What does B.I.C. stand for?',\n",
       " 'Who was credited for her cries on the song?',\n",
       " 'When did Beyoncé give birth to her daughter?',\n",
       " 'What did Beyoncé and Jay Z name their daughter?',\n",
       " 'What song did Jay Z release two days after Blue Ivy was born?',\n",
       " 'What is included at the end of Glory?',\n",
       " 'How was Blue Ivy credited on Glory?',\n",
       " 'Beyonce and Jay-Z went to a rally for the acquittal of whom?',\n",
       " 'Beyonce sang which song during the 2009 presidential inauguration?',\n",
       " 'How much did Beyonce raise for Obama at the 40/40 Club?',\n",
       " 'What did she endorse on March 26, 2013?',\n",
       " 'What did they attend in July 2013?',\n",
       " 'What did she sing at the 2009 Presidential Inauguration?',\n",
       " 'What song did Beyoncé perform at the 2009 inauguration of Obama?',\n",
       " 'What song did Beyoncé perform at the first inaugural dance for the Obamas.',\n",
       " 'What social media platform did Beyoncé upload a picture of her paper ballot on?',\n",
       " 'When did Beyoncé endorse on March 26, 2013?',\n",
       " 'Beyonce did an interview with which magazine and was asked about feminism?',\n",
       " 'Beyonce supported which campaign that encourages leadership in girls?',\n",
       " 'Where was Beyonce quoted as saying that she is a modern-day feminist?',\n",
       " 'When did she say the she is a feminist?',\n",
       " 'What campaign did she contribute to?',\n",
       " 'What song did she release in 2013 in response to a speech?',\n",
       " 'What does Ban Bossy encourage?',\n",
       " 'Beyoncé used words from which Nigerian author in her song, Flawless?',\n",
       " 'Which campaign does Beyoncé contribute to that encourages leadership in females?',\n",
       " 'Beyonce signed a letter with who in 2015?',\n",
       " 'An important UN summit took place when?',\n",
       " 'The letter Beyonce signed focused on what issue?',\n",
       " 'What had to be set in developing funding?',\n",
       " 'When did Beyonce sign a letter for ONE Campaign?',\n",
       " 'To whom was the letter addressed?',\n",
       " 'Who are these women?',\n",
       " 'When will they meet?',\n",
       " 'Who did Beyoncé sign a letter for in 2015?',\n",
       " 'Who was the letter addressed to?',\n",
       " 'What was Angela Merkel serving as in relation to the letter?',\n",
       " 'What did the letter want the two recipients to focus on?',\n",
       " \"Beyonce along with Jay Z met with whom's family after their death?\",\n",
       " 'Beyonce with Jay Z gave lots of money to bail who out of prison?',\n",
       " \"Who's death caused this protest?\",\n",
       " 'How much bail money did they spend?',\n",
       " 'Beyonce beat out which musical artists for most paid between June 2007 and June 2008?',\n",
       " 'Beyonce and Jay Z got a Guinness World record for what in 2009?',\n",
       " 'Beyonce became the highest-paid black musician in which year?',\n",
       " \"Up until May of 2015, how much is Beyonce's total worth?\",\n",
       " 'Between 2008 and 2009, which entertainers did Beyonce beat in earnings?',\n",
       " 'In 2012 who placed Beyonce at 16 in the Celebrity List?',\n",
       " 'When did she and Jay Z become the highest paid black celebrity couple?',\n",
       " 'How much did she earn in 2014?',\n",
       " \"What is Beyonce's net worth in 2015?\",\n",
       " \"Who began reporting Beyoncé's annual earnings, starting in 2008?\",\n",
       " 'When did Beyoncé become the highest paid black musician, ever?',\n",
       " 'Who predicted that Beyoncé would become the highest paid black entertainer?',\n",
       " 'When did Jay Z and Beyoncé become the first music couple worth over a billion dollars?',\n",
       " \"Beyonce's range in singing is how many octaves?\",\n",
       " \"who talked about Beyonce's tone and timbre as distinctive?\",\n",
       " 'Which critic called Beyonce\\'s voice \"versatile\"?',\n",
       " \"Which era was credited to have influenced Beyonce's singing style by Jody Rosen?\",\n",
       " 'How many octaves does Beyonce have?',\n",
       " \"What did the Daily Mail say about Beyonce's voice?\",\n",
       " \"What does Rosen claim influenced Beyonce's style?\",\n",
       " 'What do other critics claim?',\n",
       " \"How many octaves does Beyoncé's voice span?\",\n",
       " \"Why is Beyoncé known as the centerpiece of Destiny's Child?\",\n",
       " \"New York Times' Jon Pareles calls Beyoncé's voice velvety yet what?\",\n",
       " \"What does Jody Rosen say influenced Beyoncé's vocal style?\",\n",
       " 'Music from Beyonce is generally categorized as what genre?',\n",
       " 'Besides R&B, which genres does Beyonce dabble in?',\n",
       " 'Beyonce mostly releases English songs, but what other language did she release songs?',\n",
       " 'Spanish songs Beyonce released were for what?',\n",
       " 'Beyonce was coached for her Spanish songs by which American?',\n",
       " 'What kind of music does Beyonce do?',\n",
       " 'What language does she mainly sing?',\n",
       " 'What other language has she sung?',\n",
       " 'What album did she re-release in Spanish?',\n",
       " 'What style of music does Beyoncé usually perform?',\n",
       " 'What language did Beyoncé release several songs in?',\n",
       " 'Who coached Beyoncé for her Spanish recordings?',\n",
       " 'What album did the Spanish songs come from?',\n",
       " 'Beyonce does not create which aspect of her music?',\n",
       " 'An example of a song aimed towards a male audience is what?',\n",
       " \"What theme was Beyonce's early music?\",\n",
       " 'With Jay Z what were her new themes?',\n",
       " 'What does she get credits for in her music?',\n",
       " 'What part of production does she do?',\n",
       " \"Beyoncé's early recordings empowered who?\",\n",
       " 'In addition to co-writing credits, Beyoncé also got what credits for most of her albums?',\n",
       " 'Rather than beats, what two things does Beyoncé usually come up with for producers?',\n",
       " 'Pop Songwriter of the Year award in 2001 was awarded to whom?',\n",
       " 'Beyonce received the Pop Songwriter of the Year award at which event?',\n",
       " 'Beyonce has the same number of writing credits on number one singles as whom?',\n",
       " 'Beyonce joined 2 other women on what list from Billboard magazine in 2011?',\n",
       " 'When did Beyonce become the first African American woman to win Pop songwriter of the year?',\n",
       " 'What place is she tied for in songwriting credits?',\n",
       " 'Who listed her at number 17 in their list of  Top 20 hot 100 Songwriters?',\n",
       " 'Where does she place in writing credits  for three number one songs?',\n",
       " 'What did Beyoncé win in 2001, making her the first black woman to do so?',\n",
       " 'Who gave Beyoncé the Pop Songwriter of the Year award in 2001?',\n",
       " 'Beyoncé was one of how many women on Billboard magazine\\'s 2011 \"Top 20 Hot 100 Songwriters\" list.',\n",
       " 'What number was Beyoncé on the Top 20 Hot 100 Songwriters list?',\n",
       " 'To whom did Beyonce credit as her major influence on her music?',\n",
       " 'How old was Beyonce when she went to her first Michael Jackson concert as a kid?',\n",
       " 'Beyonce gave a tribute award to who in 2006?',\n",
       " 'Beyonce cites Mariah Carey to making her want to start doing what?',\n",
       " 'Who influenced Beyonce?',\n",
       " 'What song by Mariah Carey influenced her?',\n",
       " \"Who is Beyoncé's biggest musical influence?\",\n",
       " \"What was Beyoncé's first concert?\",\n",
       " 'Who does Beyoncé feel is an all-around entertainer?',\n",
       " 'Who does she credit for the inspiration to \"get up there and do what she did\"?',\n",
       " 'What song caused Beyoncé to practice runs as a child?',\n",
       " 'What themes were influenced by her acting role in Dreamgirls?',\n",
       " 'Which singer did Beyonce honor by entertaining with her song \"Deja Vu\"?',\n",
       " 'Who motivated Beyonce to explore other areas of music?',\n",
       " 'What movie influenced Beyonce towards empowerment themes? ',\n",
       " 'How did Etta James influence her?',\n",
       " \"Where did she perform wearing Baker's hula skirt?\",\n",
       " \"What singer inspired Beyoncé's B'Day album?\",\n",
       " 'What song did Beyoncé sing at a 2006 concert to honor Josephine Baker?',\n",
       " 'Beyonce has noted which first lady with saying \"She proves you can do it all\"?',\n",
       " 'Which month and year did Beyonce credit Madonna for inspiring her to take control of her career?',\n",
       " 'Beyonce has said that who embodies the \"definition of inspiration and a strong woman\"?',\n",
       " 'Who personally influences Beyonce?',\n",
       " 'Hoe does she describe Oprah Winfrey?',\n",
       " 'How does she describe Jean- Michel Basquiat?',\n",
       " 'How does Madonna influence her?',\n",
       " 'How does she describe Jay Z?',\n",
       " 'Who inspires Beyoncé because \"she does it all?\"',\n",
       " 'Who does Beyoncé describe as the definition of inspiration?',\n",
       " 'Who does Beyoncé describe as lyrical and raw?',\n",
       " 'Who inspired Beyoncé to take control of her career?',\n",
       " 'Beyonce had an all-female tour band whose name was what?',\n",
       " 'Beyonce had singers in the background known by the name as?',\n",
       " 'The Mamas members included which 3 musicians?',\n",
       " 'The Mamas first appearance was when?',\n",
       " 'What band did Beyonce introduce in 2006?',\n",
       " \"What song name does the band Suga Mama  and a song on the B'Day album share?\",\n",
       " 'Where did Suga Mama band make their first appearance?',\n",
       " 'What band supports Beyonce in her tours?',\n",
       " \"What is the name of Beyoncé's female tour band?\",\n",
       " 'Suga Mama is also a song on which Beyoncé album?',\n",
       " \"What are Beyoncé's backup singers called?\",\n",
       " 'When did The Mamas make their debut?',\n",
       " 'What characteristics has Beyonce received acclaim for?',\n",
       " 'Which former president of Def Jam called Beyonce the greatest entertainer alive?',\n",
       " 'For what does Beyonce receive praise?',\n",
       " 'Who chose her as number one on his list of Best singers/ Dancers?',\n",
       " 'How has L.A. Reid described her?',\n",
       " 'How does Alice Jones describe her?',\n",
       " 'Who has Beyoncé at number one on her Five Best Singer/Dancers?',\n",
       " 'Who has said that Beyoncé is the best entertainer alive?',\n",
       " 'Beyonce self proclaimed alter ego is named what?',\n",
       " 'Her alter ego was born when according to Beyonce?',\n",
       " 'What year did Beyonce do away with Sasha Fierce?',\n",
       " 'Beyonce brought back Sasha Fierce during which event?',\n",
       " 'How does she describe Sasha?',\n",
       " 'Later what did she say about Sasha?',\n",
       " \"What is the name of Beyoncé's alter ego?\",\n",
       " 'When did Beyoncé introduce Sasha Fierce?',\n",
       " 'Sasha Fierce was created during the making of what song?',\n",
       " 'Who did Beyoncé tell in February 2010 that Sasha Fierce was no longer needed?',\n",
       " \"Beyonce's sex appeal is characterized as what?\",\n",
       " 'Which music journalist described Beyonce as a \"crossover sex symbol?\"',\n",
       " 'Which word spawned from a term used to describe Beyonce in 2006?',\n",
       " 'Bootylicious was a song from which act that Beyonce performed with?',\n",
       " 'Oxford Dictionary added which word from the 2000s dedicated to Beyonce?',\n",
       " 'What word is often used to describe Beyonce/',\n",
       " 'When was the term added to the dictionary?',\n",
       " 'What journalist wrote that Beyoncé was a \"sex symbol\"?',\n",
       " \"Because of Beyoncé's physical shape, what slang term has been used to describe her?\",\n",
       " \"In what year was the slang term from a title of a Destiny's Child song that is also used to describe Beyoncé put in the dictionary?\",\n",
       " 'How does Beyoncé say she likes to dress off-stage?',\n",
       " 'in September 2010, what career area did Beyonce start exploring?',\n",
       " \"Beyonce's first modelling event was at where?\",\n",
       " '\"World\\'s Most Beautiful woman\" was declared to Beyonce by which national magazine?',\n",
       " 'Which month and year did GQ feature Beyonce on its cover?',\n",
       " 'What TV network listed Beyonce as number 1 on its 100 Sexiest Artists list?',\n",
       " \"Who called Beyonce the World's most Beautiful Woman?\",\n",
       " 'Who called her Hottest Female Singer of all Time?',\n",
       " 'When did she appear on the cover of GQ?',\n",
       " 'VH1 listed her at what number on their 100 Sexiest Artists list?',\n",
       " 'What year did Beyoncé first model for Tom Ford?',\n",
       " 'What magazine said Beyoncé was the \"World\\'s Most Beautiful Woman\"?',\n",
       " 'What title did Complex award Beyoncé?',\n",
       " 'What museum has made several models of Beyoncé in wax?',\n",
       " \"Which parent of Beyonce's help co-write a book?\",\n",
       " 'Which African-American woman before Beyonce had posed for SI Swimsuit issue?',\n",
       " \"What was the title of Beyonce's mother's book?\",\n",
       " 'When was she on the Sports Illustrated cover?',\n",
       " 'Who was she the second  African American on the cover after?',\n",
       " 'Beyoncé was the second African American woman featured as a swimsuit cover on the magazine, who was first?',\n",
       " 'What magazine said Beyoncé was the \"best-dressed celebrity\"?',\n",
       " 'Beyonce has a fan base that is referred to as what?',\n",
       " 'Before the Bey Hive, fans of Beyonce were called what?',\n",
       " 'Which social media company proclaimed Beyonce fans are know as the Bey Hive?',\n",
       " \"What is Beyonce's fan base called?\",\n",
       " 'What did the fans used to be called?',\n",
       " 'What is the latest term used to describe Beyoncé fans?',\n",
       " 'What was the former word given to Beyoncé fans?',\n",
       " 'What word does \"Bey Hive\" derive from?',\n",
       " 'Beyonce has a clothing line known as what?',\n",
       " 'Which French magazine did Beyonce show up on the cover of?',\n",
       " 'Beyonce was seen wearing what on the french magazine that caused controversy?',\n",
       " 'Which year did PETA spark controversy with Beyonce?',\n",
       " 'What did PETA criticize Beyonce for in 2006?',\n",
       " 'What French Magazine cover did the media criticize?',\n",
       " \"How was she dressed on the cover of L'Officiel?\",\n",
       " 'What French magazine did Beyoncé appear in wearing blackface and tribal makeup?',\n",
       " 'What clothing line of Beyoncé drew PETA criticism?',\n",
       " \"What type of magazine is L'Officiel?\",\n",
       " 'Which racial community gave criticism to Beyonce?',\n",
       " 'Which professor from Northeastern University wrote about how race correlates with these criticisms of Beyonce?',\n",
       " \"Which company was accused of coloring Beyonce's hair?\",\n",
       " 'What did Vogue request?',\n",
       " \"How did L'Oreal respond to accusations of changing pictures?\",\n",
       " 'In addition to her light skin color, what else has made part of the African American community criticize Beyoncé?',\n",
       " 'In 2007, which music professor said he believes this criticism does involve race as well?',\n",
       " \"Who was accused of lightening Beyoncé's skin for an advertisement?\",\n",
       " \"What advertisement was Beyoncé's skin supposedly lightened in?\",\n",
       " 'Who did Beyoncé tell in 2013 to only use natural pictures of her rather than retouched images?',\n",
       " 'Artist of the Decade was bestowed upon Beyonce from which magazine?',\n",
       " 'Whats the first year that Beyonce appear on the Time 100 list?',\n",
       " 'Beyonce than appeared again on the Time 100 list in what year?',\n",
       " 'What did the Guardian name her?',\n",
       " 'When did Beyonce first make the Time 100 List?',\n",
       " 'When was she again on the Time 100 List and on the cover?',\n",
       " 'Who said that she is the reigning national voice?',\n",
       " 'Who stated that Beyoncé is the most important musician of the 21st century?',\n",
       " 'Which publication named Beyoncé the Artist of the Decade?',\n",
       " 'What list did Beyoncé make in 2013?',\n",
       " 'Who said Beyoncé is the heir-apparent diva of the United States?',\n",
       " 'What year was Beyoncé featured both on the Time 100 list as well as the cover of the issue?',\n",
       " 'Which rock band cited Beyonce on their third album?',\n",
       " 'Which friend learned from Beyonce while preparing for the film, \"Country Strong?\"',\n",
       " 'Nicky Minaj became a spokesperson for which brand of soda after seeing Beyonce involved with it?',\n",
       " 'What influenced Nicki Minaj to join the Pepsi global campaign?',\n",
       " 'Which band listed Beyonce as an inspiration on their latest album?',\n",
       " 'What about Beyonce has influenced many entertainers?',\n",
       " 'For what film was Paltrow studying Beyonce ?',\n",
       " 'Which Indie band said Beyoncé was an inspiration for one of hteir albums?',\n",
       " \"What was the name of the White Rabbits' album?\",\n",
       " \"Who studied Beyoncé during live concerts for research for a film's music role?\",\n",
       " 'What was the name of the film that Gwyneth Paltrow starred in as a musician?',\n",
       " \"Beyoncé's Pepsi commercial inspired which star to join Pepsi's global campaign in 2012?\",\n",
       " 'VH1 declared what song the \"Greatest song of the 2000s?\"',\n",
       " 'How many Grammy awards did \"Crazy in Love\" win?',\n",
       " 'How many did Crazy in Love sell to become one of the greatest selling singles in history?',\n",
       " 'What type of organism was named after Beyonce in 2012?',\n",
       " 'A place for Beyonce in the Rock and Roll Hall of fame was awarded when?',\n",
       " \"Which of Beyonce's songs was called Greatest Song of the 2000s?\",\n",
       " 'How many Grammy awards did Crazy in Love get?',\n",
       " 'How many copies did Crazy in Love sell?',\n",
       " 'Who released the single Girls Love Beyonce?',\n",
       " 'Which publication considers Crazy in Love to be one of the top 500 songs of all time?',\n",
       " 'Who sang \"Girls Love Beyoncé\" in 2013?',\n",
       " 'What did Bryan Lessard name after Beyoncé?',\n",
       " 'How many copies of her albums as Beyonce sold in the US?',\n",
       " 'Totaling worldwide, how many records as Beyonce sold?',\n",
       " 'How many certifications was Beyonce awarded by the RIAA?',\n",
       " \"When Beyonce was with Destiny's Child, how many albums did she manage to sell?\",\n",
       " 'Who was the first female to achieve the International Artist Award at the American Music Awards?',\n",
       " 'How many albums has Beyonce as a solo artist sold in the U.S?',\n",
       " 'How many has she sold worldwide?',\n",
       " \"How many records has she sold with Destiny's Child?\",\n",
       " 'When did she receive the Legend Award?',\n",
       " 'How many music certifications has she received in the 2000s?',\n",
       " 'How many records has Beyoncé sold in the United States?',\n",
       " 'How many records has Beyoncé sold throughout the world?',\n",
       " 'Who cited Beyoncé as being the top certified artist of the 2000s?',\n",
       " 'How many certifications did RIAA give Beyoncé?',\n",
       " 'When did Beyoncé receive the Legend Award?',\n",
       " \"How many Grammys has Beyonce won total with and without Destiny's Child?\",\n",
       " 'Who is the only other woman with more Grammy awards than Beyonce?',\n",
       " 'Beyonce has been awarded how many Grammy nominations?',\n",
       " 'Beyonce holds the record for how many wins in one night by a female?',\n",
       " 'How many awards at the Broadcast Film Critics Association Awards in 2006 did Beyonce bring home?',\n",
       " 'How many Grammies has Beyonce won?',\n",
       " 'How many Grammy nominations does Beyonce have?',\n",
       " 'When did she set the record for most Grammy awards won in one night?',\n",
       " 'Who tied her record for most Grammies won in one night in 2012?',\n",
       " 'How many Grammys has Beyoncé won?',\n",
       " 'How many Grammy nominations has Beyoncé had?',\n",
       " 'What Beyoncé song was song of the year on 2010?',\n",
       " 'What movie had Beyoncé nominated as Best Actress for Golden Globe Awards?',\n",
       " 'Which soda company has Beyonce partnered with since 2002?',\n",
       " 'Pepsi paid Beyonce how much in 2012 for her endorsement?',\n",
       " 'Which organization wrote a letter to Beyonce after her Pepsi endorsement deal?',\n",
       " \"What percentage of people were positive about Beyonce's endorsement of Pepsi?\",\n",
       " 'When did Beyonce begin doing Pepsi advetisments?',\n",
       " 'Who was in the commercial with Beyonce in 2004?',\n",
       " 'What did she agree to do for 50 million dollars in 2012?',\n",
       " 'Who sent her a letter asking that she reconsider the Pepsi deal?',\n",
       " 'What soft drink company has Beyoncé worked with since 2002?',\n",
       " 'How much did Beyoncé get for a deal with a soft drink company in 2012?',\n",
       " 'Who asked her to change her mind about the soft drink deal due to the nature of the product?',\n",
       " 'What organization discovered that the advertisements Beyoncé did for the soft drink company were 70% positive?',\n",
       " 'Beyonce worked with who on her perfumes, True Star and True Star Gold?',\n",
       " \"The world's best selling celebrity perfume line belongs to whom?\",\n",
       " \"Beyonce's first fragrance had what name?\",\n",
       " 'The Mrs. Carter Show Limited Edition was released in what year?',\n",
       " 'How much money did The Mrs. Carter Show Limited Edition fragrance make?',\n",
       " \"What was Beyonce's 2010  perfume called?\",\n",
       " 'When was her second perfume, Heat Rush, released?',\n",
       " \"What was Beyonce's third perfume named?\",\n",
       " 'How many editions of Heat have been launched?',\n",
       " 'Which Emporio Armani fragrance did Beyoncé promote in 2007?',\n",
       " 'What year did Beyoncé introduce her first fragrance?',\n",
       " \"What was Beyoncé's first fragrance called?\",\n",
       " 'How many editions of Heat exist?',\n",
       " \"How young was Beyonce when she acquired deals from American Express and L'Oreal?\",\n",
       " 'What was the name of the video game that was cancelled for Beyonce?',\n",
       " 'When did Beyonce begin her deals with name brands?',\n",
       " 'How many people lost jobs when Beyonce left the video game deal?',\n",
       " 'How was the suit settled?',\n",
       " 'What was the name of the video game?',\n",
       " 'What video game did Beyoncé back out of?',\n",
       " 'What company was producing the video game?',\n",
       " 'How many people lost their jobs over Beyoncé backing out of the deal?',\n",
       " 'When was the disagreement settled out of court?',\n",
       " \"Who did Bayonce's management go into business with in 2014?\",\n",
       " 'After their agreement together, Beyonce\\'s and Topshop\" new business was called what?',\n",
       " 'What type of clothing does Parkwood Topshop Athletic Ltd produce?',\n",
       " 'The company and products were set to be in stores when?',\n",
       " 'Who did Beyonce partner with in London?',\n",
       " 'When will the new line launch?',\n",
       " \"What is the name of Beyoncé's management company?\",\n",
       " 'Who did Beyoncé and Parkwood Entertainment partner with in October 2014?',\n",
       " 'Where is Topshop located?',\n",
       " 'What was the new division of Topshop because of the partnership?',\n",
       " 'When was it discovered Beyonce was a co-owner of the music service, Tidal?',\n",
       " 'The parent company of Tidal became under the ownership of whom in 2015?',\n",
       " 'When was it announced that Beyonce was  a co-owner in Tidal?',\n",
       " 'What kind of service is Tidal?',\n",
       " 'What is a criticism of other streaming services?',\n",
       " 'What music streaming system is Beyoncé part owner of?',\n",
       " 'What is the parent company of the music service Beyoncé owns part of?',\n",
       " 'Who acquired the parent company of the music service Beyoncé owns part of?',\n",
       " 'What music service is accused of providing low royalty amounts?',\n",
       " \"House of Dereon became known through Beyonce and which of Beyonce's relatives?\",\n",
       " \"Beyonce's grandma's name was?\",\n",
       " \"Beyonce's family's company name is what?\",\n",
       " \"What types of garments are sold by Beyonce's clothing line?\",\n",
       " \"Which two countries can you purchase Beyonce's clothing line?\",\n",
       " 'Who partnered with Beyonce to start the clothing line, Dereon?',\n",
       " 'When did Beyonce and her mother start Dereon?',\n",
       " \"Who was the business named for in Beyonce's family?\",\n",
       " 'Where were items from the clothing line displayed?',\n",
       " 'Who shares in the House of Deréon fashion line introduction with Beyoncé?',\n",
       " 'What is the name of the House of Deréon junior collection?',\n",
       " 'What type of accessory company did Beyonce partner with in 2005?',\n",
       " 'In 2010, Beyonce released Dereon to what country?',\n",
       " \"Back-to-school shopping was introduced in what year of Beyonce's clothing line?\",\n",
       " \"What did Beyonce's Fashion Diva  feature?\",\n",
       " 'What new idea did Beyonce and her mother launch in 2009?',\n",
       " 'When did Beyonce partner with C&A to sell fashion in Brazil?',\n",
       " 'What company did Beyoncé get together with in 2005 to add shoes to her fashions?',\n",
       " 'What was the name of the game put out by Starwave Mobile in 2008 that featured Beyoncé fashions?',\n",
       " 'What was the name of the junior fashions launched in 2009 by Beyoncé and her mother?',\n",
       " 'Who did Beyoncé team up with in 2010 to get her fashions into Brazil?',\n",
       " \"Sasha Fierce for Deréon fashions were sold at stores that included Macy's and what other store?\",\n",
       " 'Beyonce, during October 2014, partnered with whom to produce an outdoor line of clothing?',\n",
       " 'Beyonce and Topshops first products were to be sold in stores when?',\n",
       " 'What is the new business called?',\n",
       " \"What is Beyonce's percentage of ownership in the new venture?\",\n",
       " 'When will the full line appear?',\n",
       " 'What company did Beyoncé contract with to sell clothing in England?',\n",
       " \"What is the name of the equal partnership's fashion line between Beyoncé and the British company to come out in 2016?\",\n",
       " 'What type of clothing does the British partnership with Beyoncé sell?',\n",
       " 'What national disaster caused Beyonce to create the Survivor Foundation?',\n",
       " 'How much cash did Beyonce put into the venture, the Survivor Foundation at startup?',\n",
       " 'What hurricane years later after Katrina did the organization provide support for?',\n",
       " 'What did Beyonce and Rowland found in 2005?']"
      ]
     },
     "execution_count": 58,
     "metadata": {},
     "output_type": "execute_result"
    }
   ],
   "source": [
    "raw_datasets[\"train\"][\"question\"][:1000]"
   ]
  },
  {
   "cell_type": "code",
   "execution_count": 59,
   "metadata": {},
   "outputs": [
    {
     "name": "stdout",
     "output_type": "stream",
     "text": [
      "The Basilica of the Sacred heart at Notre Dame is beside to which structure?\n",
      "    The Basilica of the Sacred heart at Notre Dame is beside to which structure?\n"
     ]
    }
   ],
   "source": [
    "q = \"    The Basilica of the Sacred heart at Notre Dame is beside to which structure?\"\n",
    "q.strip()\n",
    "print(q.strip())\n",
    "print(q)"
   ]
  },
  {
   "cell_type": "code",
   "execution_count": 60,
   "metadata": {},
   "outputs": [
    {
     "name": "stdout",
     "output_type": "stream",
     "text": [
      "In what city and state did Beyonce  grow up? \n",
      "272\n",
      " The album, Dangerously in Love  achieved what spot on the Billboard Top 100 chart?\n",
      "406\n",
      "Which song did Beyonce sing at the first couple's inaugural ball? \n",
      "463\n",
      "What event did Beyoncé perform at one month after Obama's inauguration? \n",
      "548\n",
      "Where was the album released? \n",
      "565\n",
      "What movie influenced Beyonce towards empowerment themes? \n",
      "742\n"
     ]
    }
   ],
   "source": [
    "# some questions have leading and/or trailing whitespace\n",
    "for q in raw_datasets[\"train\"][\"question\"][:1000]:\n",
    "  if q.strip() != q:\n",
    "    print(q)\n",
    "    print(raw_datasets[\"train\"][\"question\"][:1000].index(q))"
   ]
  },
  {
   "cell_type": "code",
   "execution_count": 61,
   "metadata": {},
   "outputs": [
    {
     "ename": "NameError",
     "evalue": "name 'batch' is not defined",
     "output_type": "error",
     "traceback": [
      "\u001b[1;31m---------------------------------------------------------------------------\u001b[0m",
      "\u001b[1;31mNameError\u001b[0m                                 Traceback (most recent call last)",
      "\u001b[1;32mc:\\Users\\Nilofar\\Desktop\\Q-Answering_Lazyprogrammer\\QA1.ipynb Cell 59\u001b[0m line \u001b[0;36m1\n\u001b[1;32m----> <a href='vscode-notebook-cell:/c%3A/Users/Nilofar/Desktop/Q-Answering_Lazyprogrammer/QA1.ipynb#Y112sZmlsZQ%3D%3D?line=0'>1</a>\u001b[0m batch[\u001b[39m\"\u001b[39m\u001b[39mquestion\u001b[39m\u001b[39m\"\u001b[39m]\n",
      "\u001b[1;31mNameError\u001b[0m: name 'batch' is not defined"
     ]
    }
   ],
   "source": [
    "batch[\"question\"]"
   ]
  },
  {
   "cell_type": "code",
   "execution_count": 65,
   "metadata": {},
   "outputs": [],
   "source": [
    "# now we are ready to process (tokenize) the training data\n",
    "# (i.e. expand question+context pairs into question+smaller context windows)\n",
    "\n",
    "# Google used 384 for SQuAD\n",
    "max_length = 384\n",
    "stride = 128\n",
    "\n",
    "def tokenize_fn_train(batch):\n",
    "  # some questions have leading and/or trailing whitespace\n",
    "  questions = [q.strip() for q in batch[\"question\"]]\n",
    "\n",
    "  # tokenize the data (with padding this time)\n",
    "  # since most contexts are long, we won't bother to pad per-minibatch\n",
    "  inputs = tokenizer(\n",
    "    questions,\n",
    "    batch[\"context\"],\n",
    "    max_length=max_length,\n",
    "    truncation=\"only_second\",\n",
    "    stride=stride,\n",
    "    return_overflowing_tokens=True,\n",
    "    return_offsets_mapping=True,\n",
    "    padding=\"max_length\",\n",
    "  )\n",
    "\n",
    "  # we don't need these later so remove them\n",
    "  offset_mapping = inputs.pop(\"offset_mapping\")\n",
    "  orig_sample_idxs = inputs.pop(\"overflow_to_sample_mapping\")\n",
    "  answers = batch['answers']\n",
    "  start_idxs, end_idxs = [], []\n",
    "\n",
    "  # same loop as above\n",
    "  for i, offset in enumerate(offset_mapping):\n",
    "    sample_idx = orig_sample_idxs[i]\n",
    "    answer = answers[sample_idx]\n",
    "\n",
    "    ans_start_char = answer['answer_start'][0]\n",
    "    ans_end_char = ans_start_char + len(answer['text'][0])\n",
    "\n",
    "    sequence_ids = inputs.sequence_ids(i)\n",
    "\n",
    "    # find start + end of context (first 1 and last 1)\n",
    "    ctx_start = sequence_ids.index(1)\n",
    "    ctx_end = len(sequence_ids) - sequence_ids[::-1].index(1) - 1\n",
    "\n",
    "    start_idx, end_idx = find_answer_token_idx(\n",
    "      ctx_start,\n",
    "      ctx_end,\n",
    "      ans_start_char,\n",
    "      ans_end_char,\n",
    "      offset)\n",
    "\n",
    "    start_idxs.append(start_idx)\n",
    "    end_idxs.append(end_idx)\n",
    "  \n",
    "  inputs[\"start_positions\"] = start_idxs\n",
    "  inputs[\"end_positions\"] = end_idxs\n",
    "  return inputs"
   ]
  },
  {
   "cell_type": "code",
   "execution_count": 66,
   "metadata": {},
   "outputs": [
    {
     "data": {
      "text/plain": [
       "(87599, 88729)"
      ]
     },
     "execution_count": 66,
     "metadata": {},
     "output_type": "execute_result"
    }
   ],
   "source": [
    "train_dataset = raw_datasets[\"train\"].map(\n",
    "  tokenize_fn_train,\n",
    "  batched=True,\n",
    "  remove_columns=raw_datasets[\"train\"].column_names,\n",
    ")\n",
    "len(raw_datasets[\"train\"]), len(train_dataset)"
   ]
  },
  {
   "cell_type": "code",
   "execution_count": 67,
   "metadata": {},
   "outputs": [
    {
     "data": {
      "text/plain": [
       "{'id': '56be4db0acb8001400a502ec',\n",
       " 'title': 'Super_Bowl_50',\n",
       " 'context': 'Super Bowl 50 was an American football game to determine the champion of the National Football League (NFL) for the 2015 season. The American Football Conference (AFC) champion Denver Broncos defeated the National Football Conference (NFC) champion Carolina Panthers 24–10 to earn their third Super Bowl title. The game was played on February 7, 2016, at Levi\\'s Stadium in the San Francisco Bay Area at Santa Clara, California. As this was the 50th Super Bowl, the league emphasized the \"golden anniversary\" with various gold-themed initiatives, as well as temporarily suspending the tradition of naming each Super Bowl game with Roman numerals (under which the game would have been known as \"Super Bowl L\"), so that the logo could prominently feature the Arabic numerals 50.',\n",
       " 'question': 'Which NFL team represented the AFC at Super Bowl 50?',\n",
       " 'answers': {'text': ['Denver Broncos', 'Denver Broncos', 'Denver Broncos'],\n",
       "  'answer_start': [177, 177, 177]}}"
      ]
     },
     "execution_count": 67,
     "metadata": {},
     "output_type": "execute_result"
    }
   ],
   "source": [
    "# note: we'll keep these IDs for later\n",
    "raw_datasets[\"validation\"][0]"
   ]
  },
  {
   "cell_type": "code",
   "execution_count": 68,
   "metadata": {},
   "outputs": [],
   "source": [
    "# tokenize the validation set differently\n",
    "# we won't need the targets since we will just compare with the original answer\n",
    "# also: overwrite offset_mapping with Nones in place of question\n",
    "def tokenize_fn_validation(batch):\n",
    "  # some questions have leading and/or trailing whitespace\n",
    "  questions = [q.strip() for q in batch[\"question\"]]\n",
    "\n",
    "  # tokenize the data (with padding this time)\n",
    "  # since most contexts are long, we won't bother to pad per-minibatch\n",
    "  inputs = tokenizer(\n",
    "    questions,\n",
    "    batch[\"context\"],\n",
    "    max_length=max_length,\n",
    "    truncation=\"only_second\",\n",
    "    stride=stride,\n",
    "    return_overflowing_tokens=True,\n",
    "    return_offsets_mapping=True,\n",
    "    padding=\"max_length\",\n",
    "  )\n",
    "\n",
    "  # we don't need these later so remove them\n",
    "  orig_sample_idxs = inputs.pop(\"overflow_to_sample_mapping\")\n",
    "  sample_ids = []\n",
    "\n",
    "  # rewrite offset mapping by replacing question tuples with None\n",
    "  # this will be helpful later on when we compute metrics\n",
    "  for i in range(len(inputs[\"input_ids\"])):\n",
    "    sample_idx = orig_sample_idxs[i]\n",
    "    sample_ids.append(batch['id'][sample_idx])\n",
    "\n",
    "    sequence_ids = inputs.sequence_ids(i)\n",
    "    offset = inputs[\"offset_mapping\"][i]\n",
    "    inputs[\"offset_mapping\"][i] = [\n",
    "      x if sequence_ids[j] == 1 else None for j, x in enumerate(offset)]\n",
    "    \n",
    "  inputs['sample_id'] = sample_ids\n",
    "  return inputs"
   ]
  },
  {
   "cell_type": "code",
   "execution_count": 69,
   "metadata": {},
   "outputs": [
    {
     "data": {
      "text/plain": [
       "(10570, 10822)"
      ]
     },
     "execution_count": 69,
     "metadata": {},
     "output_type": "execute_result"
    }
   ],
   "source": [
    "validation_dataset = raw_datasets[\"validation\"].map(\n",
    "  tokenize_fn_validation,\n",
    "  batched=True,\n",
    "    remove_columns=raw_datasets[\"validation\"].column_names,\n",
    ")\n",
    "len(raw_datasets[\"validation\"]), len(validation_dataset)"
   ]
  },
  {
   "cell_type": "code",
   "execution_count": 70,
   "metadata": {},
   "outputs": [],
   "source": [
    "# Metrics\n",
    "from datasets import load_metric\n",
    "\n",
    "metric = load_metric(\"squad\")"
   ]
  },
  {
   "cell_type": "code",
   "execution_count": 71,
   "metadata": {},
   "outputs": [
    {
     "data": {
      "text/plain": [
       "{'exact_match': 66.66666666666667, 'f1': 83.33333333333333}"
      ]
     },
     "execution_count": 71,
     "metadata": {},
     "output_type": "execute_result"
    }
   ],
   "source": [
    "predicted_answers = [\n",
    "  {'id': '1', 'prediction_text': 'Albert Einstein'},\n",
    "  {'id': '2', 'prediction_text': 'physicist'},\n",
    "  {'id': '3', 'prediction_text': 'general relativity'},\n",
    "]\n",
    "true_answers = [\n",
    "  {'id': '1', 'answers': {'text': ['Albert Einstein'], 'answer_start': [100]}},\n",
    "  {'id': '2', 'answers': {'text': ['physicist'], 'answer_start': [100]}},\n",
    "  {'id': '3', 'answers': {'text': ['special relativity'], 'answer_start': [100]}},\n",
    "]\n",
    "\n",
    "# id and answer_start seem superfluous but you'll get an error if not included\n",
    "# exercise: remove them (one at a time) and see!\n",
    "metric.compute(predictions=predicted_answers, references=true_answers)"
   ]
  },
  {
   "cell_type": "code",
   "execution_count": 72,
   "metadata": {},
   "outputs": [],
   "source": [
    "# next problem: how to go from logits to prediction text?\n",
    "# to make it easier, let's work on an already-trained question-answering model\n",
    "small_validation_dataset = raw_datasets[\"validation\"].select(range(100))\n",
    "trained_checkpoint = \"distilbert-base-cased-distilled-squad\"\n",
    "\n",
    "tokenizer2 = AutoTokenizer.from_pretrained(trained_checkpoint)\n",
    "\n",
    "# temporarily assign tokenizer2 to tokenizer since it's used as a global\n",
    "# in tokenize_fn_validation\n",
    "old_tokenizer = tokenizer\n",
    "tokenizer = tokenizer2\n",
    "\n",
    "small_validation_processed = small_validation_dataset.map(\n",
    "    tokenize_fn_validation,\n",
    "    batched=True,\n",
    "    remove_columns=raw_datasets[\"validation\"].column_names,\n",
    ")\n",
    "\n",
    "# change it back\n",
    "tokenizer = old_tokenizer"
   ]
  },
  {
   "cell_type": "code",
   "execution_count": 73,
   "metadata": {},
   "outputs": [],
   "source": [
    "# get the model outputs\n",
    "import torch\n",
    "from transformers import AutoModelForQuestionAnswering\n",
    "\n",
    "# the trained model doesn't use these columns\n",
    "small_model_inputs = small_validation_processed.remove_columns(\n",
    "  [\"sample_id\", \"offset_mapping\"])\n",
    "small_model_inputs.set_format(\"torch\")\n",
    "\n",
    "# get gpu device\n",
    "device = torch.device(\"cuda\" if torch.cuda.is_available() else \"cpu\")\n",
    "\n",
    "# move tensors to gpu device\n",
    "small_model_inputs_gpu = {\n",
    "  k: small_model_inputs[k].to(device) for k in small_model_inputs.column_names\n",
    "}\n",
    "\n",
    "# download the model\n",
    "trained_model = AutoModelForQuestionAnswering.from_pretrained(\n",
    "  trained_checkpoint).to(device)\n",
    "\n",
    "# get the model outputs\n",
    "with torch.no_grad():\n",
    "  outputs = trained_model(**small_model_inputs_gpu)"
   ]
  },
  {
   "cell_type": "code",
   "execution_count": 80,
   "metadata": {},
   "outputs": [
    {
     "data": {
      "text/plain": [
       "QuestionAnsweringModelOutput(loss=None, start_logits=tensor([[ -2.2607,  -5.1783,  -5.2709,  ...,  -9.5243,  -9.5183,  -9.5288],\n",
       "        [ -2.5961,  -5.5482,  -5.5313,  ...,  -9.9598,  -9.9533,  -9.9860],\n",
       "        [ -3.7127,  -7.1848,  -8.5388,  ..., -11.6557, -11.6571, -11.6505],\n",
       "        ...,\n",
       "        [ -2.0260,  -4.4167,  -4.4980,  ...,  -8.1479,  -8.1530,  -8.1760],\n",
       "        [ -4.1553,  -5.8304,  -7.1643,  ..., -10.5255, -10.5251, -10.4890],\n",
       "        [ -3.2000,  -5.8162,  -6.7249,  ...,  -9.4935,  -9.5038,  -9.4871]]), end_logits=tensor([[ -0.7353,  -4.9236,  -5.1048,  ...,  -8.8734,  -8.8915,  -8.8550],\n",
       "        [ -1.3056,  -5.3870,  -5.4945,  ...,  -9.4895,  -9.5039,  -9.4958],\n",
       "        [ -2.7649,  -7.2201,  -9.0916,  ..., -11.3106, -11.3414, -11.2702],\n",
       "        ...,\n",
       "        [ -0.0768,  -4.8210,  -4.4374,  ...,  -8.0483,  -8.0502,  -7.9903],\n",
       "        [ -2.7347,  -5.3650,  -7.2549,  ..., -10.0498, -10.0661,  -9.9886],\n",
       "        [ -1.0991,  -4.2569,  -6.1267,  ...,  -8.6882,  -8.6889,  -8.6272]]), hidden_states=None, attentions=None)"
      ]
     },
     "execution_count": 80,
     "metadata": {},
     "output_type": "execute_result"
    }
   ],
   "source": [
    "outputs"
   ]
  },
  {
   "cell_type": "code",
   "execution_count": 75,
   "metadata": {},
   "outputs": [],
   "source": [
    "start_logits = outputs.start_logits.cpu().numpy()\n",
    "end_logits = outputs.end_logits.cpu().numpy()"
   ]
  },
  {
   "cell_type": "code",
   "execution_count": 76,
   "metadata": {},
   "outputs": [
    {
     "data": {
      "text/plain": [
       "['56be4db0acb8001400a502ec',\n",
       " '56be4db0acb8001400a502ed',\n",
       " '56be4db0acb8001400a502ee',\n",
       " '56be4db0acb8001400a502ef',\n",
       " '56be4db0acb8001400a502f0']"
      ]
     },
     "execution_count": 76,
     "metadata": {},
     "output_type": "execute_result"
    }
   ],
   "source": [
    "small_validation_processed['sample_id'][:5]"
   ]
  },
  {
   "cell_type": "code",
   "execution_count": null,
   "metadata": {},
   "outputs": [
    {
     "data": {
      "text/plain": [
       "10822"
      ]
     },
     "execution_count": 49,
     "metadata": {},
     "output_type": "execute_result"
    }
   ],
   "source": [
    "len(validation_dataset['sample_id'])"
   ]
  },
  {
   "cell_type": "code",
   "execution_count": null,
   "metadata": {},
   "outputs": [
    {
     "data": {
      "text/plain": [
       "10570"
      ]
     },
     "execution_count": 50,
     "metadata": {},
     "output_type": "execute_result"
    }
   ],
   "source": [
    "len(set(validation_dataset['sample_id']))"
   ]
  },
  {
   "cell_type": "code",
   "execution_count": null,
   "metadata": {},
   "outputs": [],
   "source": [
    "# example: {'56be4db0acb8001400a502ec': [0, 1, 2, 3], ...}\n",
    "sample_id2idxs = {}\n",
    "for i, id_ in enumerate(small_validation_processed['sample_id']):\n",
    "  if id_ not in sample_id2idxs:\n",
    "    sample_id2idxs[id_] = [i]\n",
    "  else:\n",
    "    print(\"here\")\n",
    "    sample_id2idxs[id_].append(i)"
   ]
  },
  {
   "cell_type": "code",
   "execution_count": null,
   "metadata": {},
   "outputs": [
    {
     "data": {
      "text/plain": [
       "((100, 384), (100, 384))"
      ]
     },
     "execution_count": 52,
     "metadata": {},
     "output_type": "execute_result"
    }
   ],
   "source": [
    "start_logits.shape, end_logits.shape"
   ]
  },
  {
   "cell_type": "code",
   "execution_count": null,
   "metadata": {},
   "outputs": [
    {
     "data": {
      "text/plain": [
       "array([ 46,  57,  47,  38,  39,  58,  50,  43,  45,  54,  56,  49,  13,\n",
       "        42,  40,  35,  27,  31,  48,  41,  53,  44,  37,  59,  78,  15,\n",
       "         0,  52,  24,  65,  81,  70,  18,  51,  55,  26,  69,  29,  28,\n",
       "        75,  61,  64,  23,  36,  32,  11, 101,  62,  66,  34,  95,  30,\n",
       "        63,  21,  19,  20,  17,  14,  22,  33,  68,  87, 171,  12,  76,\n",
       "        71,  73,  92, 110,  84, 151,   1,  74,   2,   6,  16,  80,  79,\n",
       "       105,  98,  10,  96, 136, 169, 106, 100,  93, 165,  67, 109,   8,\n",
       "        90,   3, 115,  60,   5,  97,   7, 103, 102,  86,  72, 111,  89,\n",
       "       108,   4,  88,  25, 132,  77, 123, 150, 124, 153,  83, 118,  82,\n",
       "        85, 107, 114, 143, 164, 137, 130, 166, 159, 131,  91,   9, 144,\n",
       "       139, 160,  94, 141, 128, 112, 134, 152, 170, 154, 117, 127, 104,\n",
       "       140, 157, 155, 133, 145, 119, 162, 138, 135, 156, 167, 168, 126,\n",
       "       148, 163, 161, 116,  99, 120, 142, 158, 125, 146, 113, 121, 147,\n",
       "       149, 129, 122, 311, 312, 304, 309, 313, 310, 300, 307, 316, 308,\n",
       "       314, 306, 317, 320, 319, 321, 291, 318, 301, 305, 287, 270, 315,\n",
       "       295, 289, 294, 251, 333, 303, 269, 299, 274, 265, 298, 176, 175,\n",
       "       338, 292, 323, 322, 290, 252, 296, 229, 177, 302, 297, 186, 245,\n",
       "       250, 283, 174, 256, 337, 266, 190, 293, 286, 264, 288, 331, 327,\n",
       "       234, 237, 227, 284, 255, 326, 276, 272, 233, 346, 191, 230, 218,\n",
       "       232, 179, 285, 273, 173, 187, 239, 332, 172, 267, 329, 238, 253,\n",
       "       334, 214, 192, 325, 278, 350, 259, 281, 268, 185, 254, 271, 279,\n",
       "       342, 345, 343, 181, 335, 183, 189, 260, 341, 275, 178, 228, 210,\n",
       "       324, 277, 212, 348, 209, 336, 261, 240, 249, 246, 194, 257, 182,\n",
       "       377, 258, 196, 195, 248, 188, 339, 197, 213, 378, 263, 208, 201,\n",
       "       205, 200, 225, 211, 282, 236, 204, 347, 203, 262, 223, 193, 330,\n",
       "       199, 202, 349, 184, 180, 351, 340, 226, 224, 243, 217, 372, 244,\n",
       "       241, 207, 235, 344, 215, 367, 247, 368, 382, 352, 379, 353, 221,\n",
       "       376, 231, 380, 220, 371, 366, 242, 219, 381, 206, 375, 369, 216,\n",
       "       198, 355, 383, 280, 328, 222, 358, 373, 357, 363, 356, 374, 354,\n",
       "       359, 365, 370, 364, 362, 361, 360], dtype=int64)"
      ]
     },
     "execution_count": 53,
     "metadata": {},
     "output_type": "execute_result"
    }
   ],
   "source": [
    "# reminder of how to find indices with the largest values\n",
    "(-start_logits[0]).argsort()"
   ]
  },
  {
   "cell_type": "code",
   "execution_count": null,
   "metadata": {},
   "outputs": [
    {
     "data": {
      "text/plain": [
       "array([10.694451  ,  9.803686  ,  4.4599786 ,  4.400489  ,  2.9437866 ,\n",
       "        2.7017422 ,  2.012652  ,  1.5780808 ,  0.52237856,  0.02074176,\n",
       "       -0.02801922, -0.04970397, -0.38572356, -0.6945309 , -0.7979434 ,\n",
       "       -0.86779773, -0.8722001 , -1.3516843 , -1.3703636 , -1.3878787 ,\n",
       "       -1.5135026 , -1.7355411 , -1.8827026 , -1.8932847 , -1.9078901 ,\n",
       "       -1.9304947 , -2.2607286 , -2.2983828 , -2.3069277 , -2.5027347 ,\n",
       "       -2.5100536 , -2.5308342 , -2.5399885 , -2.6718073 , -2.7323494 ,\n",
       "       -2.7710114 , -2.7713616 , -2.952129  , -3.0604606 , -3.170597  ,\n",
       "       -3.2045417 , -3.569333  , -3.5797982 , -3.6668777 , -3.7250547 ,\n",
       "       -3.7498534 , -3.7632098 , -3.9968114 , -4.011324  , -4.0687957 ,\n",
       "       -4.0944786 , -4.19547   , -4.238307  , -4.332359  , -4.35241   ,\n",
       "       -4.3879576 , -4.388604  , -4.396608  , -4.6790495 , -4.7030234 ,\n",
       "       -4.77575   , -4.777807  , -4.7882137 , -4.7882376 , -4.822118  ,\n",
       "       -4.8725348 , -4.884929  , -4.898141  , -5.072089  , -5.107869  ,\n",
       "       -5.148633  , -5.178324  , -5.191201  , -5.270891  , -5.3146367 ,\n",
       "       -5.3770666 , -5.5316434 , -5.5711217 , -5.649811  , -5.6613007 ,\n",
       "       -5.6778693 , -5.698604  , -5.7515626 , -5.842641  , -5.862148  ,\n",
       "       -5.9076815 , -5.9093714 , -5.944444  , -5.9968905 , -6.0058203 ,\n",
       "       -6.0470276 , -6.0640063 , -6.0858717 , -6.1005545 , -6.224171  ,\n",
       "       -6.267088  , -6.2752852 , -6.3032913 , -6.3134108 , -6.3287973 ,\n",
       "       -6.330685  , -6.4014792 , -6.4204807 , -6.436103  , -6.4374037 ,\n",
       "       -6.4507074 , -6.5314255 , -6.5530386 , -6.563015  , -6.66879   ,\n",
       "       -6.7266874 , -6.742626  , -6.7442894 , -6.7458506 , -6.810868  ,\n",
       "       -6.921628  , -6.949293  , -6.990761  , -6.998742  , -7.162259  ,\n",
       "       -7.1673503 , -7.175652  , -7.180557  , -7.1967764 , -7.2435923 ,\n",
       "       -7.2733355 , -7.2769456 , -7.300214  , -7.3009276 , -7.3218546 ,\n",
       "       -7.3976755 , -7.4330273 , -7.5248423 , -7.5272284 , -7.532271  ,\n",
       "       -7.5737076 , -7.59821   , -7.6580915 , -7.6597023 , -7.7155733 ,\n",
       "       -7.7183986 , -7.740014  , -7.7546453 , -7.885642  , -7.893759  ,\n",
       "       -7.8943686 , -7.9380317 , -7.9581985 , -8.03751   , -8.059216  ,\n",
       "       -8.063906  , -8.104628  , -8.117329  , -8.138481  , -8.145773  ,\n",
       "       -8.221216  , -8.274244  , -8.292221  , -8.293204  , -8.316826  ,\n",
       "       -8.317493  , -8.333995  , -8.466507  , -8.500577  , -8.502031  ,\n",
       "       -8.591032  , -8.612466  , -8.621489  , -8.625208  , -8.625452  ,\n",
       "       -8.814257  , -9.039049  , -9.421054  , -9.434788  , -9.441465  ,\n",
       "       -9.44437   , -9.449843  , -9.450167  , -9.450434  , -9.45104   ,\n",
       "       -9.452059  , -9.452422  , -9.452511  , -9.454128  , -9.456524  ,\n",
       "       -9.458102  , -9.458338  , -9.458435  , -9.45875   , -9.460867  ,\n",
       "       -9.4620695 , -9.462508  , -9.46294   , -9.463791  , -9.463888  ,\n",
       "       -9.465527  , -9.466446  , -9.468559  , -9.468852  , -9.468952  ,\n",
       "       -9.469486  , -9.469515  , -9.47006   , -9.470961  , -9.471134  ,\n",
       "       -9.471281  , -9.471354  , -9.4717865 , -9.4718895 , -9.472044  ,\n",
       "       -9.472683  , -9.472958  , -9.473705  , -9.475197  , -9.476604  ,\n",
       "       -9.476763  , -9.47678   , -9.477406  , -9.478306  , -9.478869  ,\n",
       "       -9.479746  , -9.479916  , -9.480066  , -9.480648  , -9.481186  ,\n",
       "       -9.481466  , -9.481517  , -9.4815235 , -9.481607  , -9.481789  ,\n",
       "       -9.482155  , -9.482843  , -9.48341   , -9.4845705 , -9.484707  ,\n",
       "       -9.484895  , -9.485168  , -9.485298  , -9.485716  , -9.485956  ,\n",
       "       -9.486801  , -9.486967  , -9.487631  , -9.487726  , -9.487911  ,\n",
       "       -9.487989  , -9.4882965 , -9.488396  , -9.48859   , -9.488799  ,\n",
       "       -9.488955  , -9.489097  , -9.489484  , -9.489672  , -9.489996  ,\n",
       "       -9.490801  , -9.4908285 , -9.4908695 , -9.490896  , -9.491137  ,\n",
       "       -9.491253  , -9.491707  , -9.492024  , -9.492165  , -9.492535  ,\n",
       "       -9.492814  , -9.493554  , -9.493632  , -9.493645  , -9.494001  ,\n",
       "       -9.494024  , -9.494388  , -9.495201  , -9.49542   , -9.496533  ,\n",
       "       -9.4966    , -9.497129  , -9.497523  , -9.497554  , -9.497576  ,\n",
       "       -9.497602  , -9.497613  , -9.4980135 , -9.498119  , -9.498622  ,\n",
       "       -9.49864   , -9.498762  , -9.499582  , -9.50001   , -9.50034   ,\n",
       "       -9.500418  , -9.500574  , -9.500973  , -9.500995  , -9.501165  ,\n",
       "       -9.501216  , -9.50127   , -9.50143   , -9.501499  , -9.501879  ,\n",
       "       -9.502006  , -9.502519  , -9.502683  , -9.503559  , -9.5036335 ,\n",
       "       -9.503656  , -9.504164  , -9.504545  , -9.505045  , -9.505529  ,\n",
       "       -9.506167  , -9.506636  , -9.50667   , -9.506752  , -9.506826  ,\n",
       "       -9.507116  , -9.507551  , -9.507726  , -9.507986  , -9.508047  ,\n",
       "       -9.50808   , -9.508731  , -9.508766  , -9.50886   , -9.509272  ,\n",
       "       -9.50951   , -9.509527  , -9.51082   , -9.511486  , -9.512029  ,\n",
       "       -9.512419  , -9.512815  , -9.51313   , -9.513149  , -9.513187  ,\n",
       "       -9.513235  , -9.513384  , -9.514926  , -9.5154295 , -9.515565  ,\n",
       "       -9.516184  , -9.516241  , -9.516339  , -9.516375  , -9.516655  ,\n",
       "       -9.517014  , -9.518305  , -9.518465  , -9.518789  , -9.519087  ,\n",
       "       -9.520797  , -9.520998  , -9.521187  , -9.521225  , -9.522537  ,\n",
       "       -9.5227375 , -9.522882  , -9.5232315 , -9.523891  , -9.524325  ,\n",
       "       -9.525372  , -9.526033  , -9.527027  , -9.528467  , -9.528528  ,\n",
       "       -9.528619  , -9.528757  , -9.529456  , -9.529707  , -9.531367  ,\n",
       "       -9.532364  , -9.532742  , -9.535534  , -9.536642  , -9.5377035 ,\n",
       "       -9.53866   , -9.539051  , -9.539336  , -9.540269  , -9.541702  ,\n",
       "       -9.548321  , -9.554476  , -9.557684  , -9.567398  ], dtype=float32)"
      ]
     },
     "execution_count": 54,
     "metadata": {},
     "output_type": "execute_result"
    }
   ],
   "source": [
    "start_logits[0][(-start_logits[0]).argsort()]"
   ]
  },
  {
   "cell_type": "code",
   "execution_count": null,
   "metadata": {},
   "outputs": [
    {
     "data": {
      "text/plain": [
       "[None,\n",
       " None,\n",
       " None,\n",
       " None,\n",
       " None,\n",
       " None,\n",
       " None,\n",
       " None,\n",
       " None,\n",
       " None,\n",
       " None,\n",
       " None,\n",
       " None,\n",
       " [0, 5],\n",
       " [6, 10],\n",
       " [11, 13],\n",
       " [14, 17],\n",
       " [18, 20],\n",
       " [21, 29],\n",
       " [30, 38],\n",
       " [39, 43],\n",
       " [44, 46],\n",
       " [47, 56],\n",
       " [57, 60],\n",
       " [61, 69],\n",
       " [70, 72],\n",
       " [73, 76],\n",
       " [77, 85],\n",
       " [86, 94],\n",
       " [95, 101],\n",
       " [102, 103],\n",
       " [103, 106],\n",
       " [106, 107],\n",
       " [108, 111],\n",
       " [112, 115],\n",
       " [116, 120],\n",
       " [121, 127],\n",
       " [127, 128],\n",
       " [129, 132],\n",
       " [133, 141],\n",
       " [142, 150],\n",
       " [151, 161],\n",
       " [162, 163],\n",
       " [163, 166],\n",
       " [166, 167],\n",
       " [168, 176],\n",
       " [177, 183],\n",
       " [184, 191],\n",
       " [192, 200],\n",
       " [201, 204],\n",
       " [205, 213],\n",
       " [214, 222],\n",
       " [223, 233],\n",
       " [234, 235],\n",
       " [235, 238],\n",
       " [238, 239],\n",
       " [240, 248],\n",
       " [249, 257],\n",
       " [258, 266],\n",
       " [267, 269],\n",
       " [269, 270],\n",
       " [270, 272],\n",
       " [273, 275],\n",
       " [276, 280],\n",
       " [281, 286],\n",
       " [287, 292],\n",
       " [293, 298],\n",
       " [299, 303],\n",
       " [304, 309],\n",
       " [309, 310],\n",
       " [311, 314],\n",
       " [315, 319],\n",
       " [320, 323],\n",
       " [324, 330],\n",
       " [331, 333],\n",
       " [334, 342],\n",
       " [343, 344],\n",
       " [344, 345],\n",
       " [346, 350],\n",
       " [350, 351],\n",
       " [352, 354],\n",
       " [355, 359],\n",
       " [359, 360],\n",
       " [360, 361],\n",
       " [362, 369],\n",
       " [370, 372],\n",
       " [373, 376],\n",
       " [377, 380],\n",
       " [381, 390],\n",
       " [391, 394],\n",
       " [395, 399],\n",
       " [400, 402],\n",
       " [403, 408],\n",
       " [409, 414],\n",
       " [414, 415],\n",
       " [416, 426],\n",
       " [426, 427],\n",
       " [428, 430],\n",
       " [431, 435],\n",
       " [436, 439],\n",
       " [440, 443],\n",
       " [444, 448],\n",
       " [449, 454],\n",
       " [455, 459],\n",
       " [459, 460],\n",
       " [461, 464],\n",
       " [465, 471],\n",
       " [472, 482],\n",
       " [483, 486],\n",
       " [487, 488],\n",
       " [488, 494],\n",
       " [495, 506],\n",
       " [506, 507],\n",
       " [508, 512],\n",
       " [513, 520],\n",
       " [521, 525],\n",
       " [525, 526],\n",
       " [526, 532],\n",
       " [533, 544],\n",
       " [544, 545],\n",
       " [546, 548],\n",
       " [549, 553],\n",
       " [554, 556],\n",
       " [557, 568],\n",
       " [569, 571],\n",
       " [571, 573],\n",
       " [573, 579],\n",
       " [580, 583],\n",
       " [584, 593],\n",
       " [594, 596],\n",
       " [597, 603],\n",
       " [604, 608],\n",
       " [609, 614],\n",
       " [615, 619],\n",
       " [620, 624],\n",
       " [625, 629],\n",
       " [630, 635],\n",
       " [636, 637],\n",
       " [637, 640],\n",
       " [640, 644],\n",
       " [645, 646],\n",
       " [646, 651],\n",
       " [652, 657],\n",
       " [658, 661],\n",
       " [662, 666],\n",
       " [667, 672],\n",
       " [673, 677],\n",
       " [678, 682],\n",
       " [683, 688],\n",
       " [689, 691],\n",
       " [692, 693],\n",
       " [693, 698],\n",
       " [699, 703],\n",
       " [704, 705],\n",
       " [705, 706],\n",
       " [706, 707],\n",
       " [707, 708],\n",
       " [709, 711],\n",
       " [712, 716],\n",
       " [717, 720],\n",
       " [721, 725],\n",
       " [726, 731],\n",
       " [732, 743],\n",
       " [744, 751],\n",
       " [752, 755],\n",
       " [756, 762],\n",
       " [763, 764],\n",
       " [764, 767],\n",
       " [767, 771],\n",
       " [772, 774],\n",
       " [774, 775],\n",
       " None,\n",
       " None,\n",
       " None,\n",
       " None,\n",
       " None,\n",
       " None,\n",
       " None,\n",
       " None,\n",
       " None,\n",
       " None,\n",
       " None,\n",
       " None,\n",
       " None,\n",
       " None,\n",
       " None,\n",
       " None,\n",
       " None,\n",
       " None,\n",
       " None,\n",
       " None,\n",
       " None,\n",
       " None,\n",
       " None,\n",
       " None,\n",
       " None,\n",
       " None,\n",
       " None,\n",
       " None,\n",
       " None,\n",
       " None,\n",
       " None,\n",
       " None,\n",
       " None,\n",
       " None,\n",
       " None,\n",
       " None,\n",
       " None,\n",
       " None,\n",
       " None,\n",
       " None,\n",
       " None,\n",
       " None,\n",
       " None,\n",
       " None,\n",
       " None,\n",
       " None,\n",
       " None,\n",
       " None,\n",
       " None,\n",
       " None,\n",
       " None,\n",
       " None,\n",
       " None,\n",
       " None,\n",
       " None,\n",
       " None,\n",
       " None,\n",
       " None,\n",
       " None,\n",
       " None,\n",
       " None,\n",
       " None,\n",
       " None,\n",
       " None,\n",
       " None,\n",
       " None,\n",
       " None,\n",
       " None,\n",
       " None,\n",
       " None,\n",
       " None,\n",
       " None,\n",
       " None,\n",
       " None,\n",
       " None,\n",
       " None,\n",
       " None,\n",
       " None,\n",
       " None,\n",
       " None,\n",
       " None,\n",
       " None,\n",
       " None,\n",
       " None,\n",
       " None,\n",
       " None,\n",
       " None,\n",
       " None,\n",
       " None,\n",
       " None,\n",
       " None,\n",
       " None,\n",
       " None,\n",
       " None,\n",
       " None,\n",
       " None,\n",
       " None,\n",
       " None,\n",
       " None,\n",
       " None,\n",
       " None,\n",
       " None,\n",
       " None,\n",
       " None,\n",
       " None,\n",
       " None,\n",
       " None,\n",
       " None,\n",
       " None,\n",
       " None,\n",
       " None,\n",
       " None,\n",
       " None,\n",
       " None,\n",
       " None,\n",
       " None,\n",
       " None,\n",
       " None,\n",
       " None,\n",
       " None,\n",
       " None,\n",
       " None,\n",
       " None,\n",
       " None,\n",
       " None,\n",
       " None,\n",
       " None,\n",
       " None,\n",
       " None,\n",
       " None,\n",
       " None,\n",
       " None,\n",
       " None,\n",
       " None,\n",
       " None,\n",
       " None,\n",
       " None,\n",
       " None,\n",
       " None,\n",
       " None,\n",
       " None,\n",
       " None,\n",
       " None,\n",
       " None,\n",
       " None,\n",
       " None,\n",
       " None,\n",
       " None,\n",
       " None,\n",
       " None,\n",
       " None,\n",
       " None,\n",
       " None,\n",
       " None,\n",
       " None,\n",
       " None,\n",
       " None,\n",
       " None,\n",
       " None,\n",
       " None,\n",
       " None,\n",
       " None,\n",
       " None,\n",
       " None,\n",
       " None,\n",
       " None,\n",
       " None,\n",
       " None,\n",
       " None,\n",
       " None,\n",
       " None,\n",
       " None,\n",
       " None,\n",
       " None,\n",
       " None,\n",
       " None,\n",
       " None,\n",
       " None,\n",
       " None,\n",
       " None,\n",
       " None,\n",
       " None,\n",
       " None,\n",
       " None,\n",
       " None,\n",
       " None,\n",
       " None,\n",
       " None,\n",
       " None,\n",
       " None,\n",
       " None,\n",
       " None,\n",
       " None,\n",
       " None,\n",
       " None,\n",
       " None,\n",
       " None,\n",
       " None,\n",
       " None,\n",
       " None,\n",
       " None,\n",
       " None,\n",
       " None,\n",
       " None,\n",
       " None,\n",
       " None,\n",
       " None,\n",
       " None,\n",
       " None,\n",
       " None,\n",
       " None,\n",
       " None,\n",
       " None]"
      ]
     },
     "execution_count": 55,
     "metadata": {},
     "output_type": "execute_result"
    }
   ],
   "source": [
    "# reminder: in offset_mapping we store None everywhere except the context window\n",
    "# in the context window we store tuples for each token containing:\n",
    "# (start_character_position, end_character_position)\n",
    "small_validation_processed['offset_mapping'][0]"
   ]
  },
  {
   "cell_type": "code",
   "execution_count": null,
   "metadata": {},
   "outputs": [],
   "source": [
    "n_largest = 20\n",
    "max_answer_length = 30\n",
    "predicted_answers = []\n",
    "\n",
    "# we are looping through the original (untokenized) dataset\n",
    "# because we need to grab the answer from the original string context\n",
    "for sample in small_validation_dataset:\n",
    "  sample_id = sample['id']\n",
    "  context = sample['context']\n",
    "\n",
    "  # update these as we loop through candidate answers\n",
    "  best_score = float('-inf')\n",
    "  best_answer = None\n",
    "\n",
    "  # now loop through the *expanded* input samples (fixed size context windows)\n",
    "  # from here we will pick the highest probability start/end combination\n",
    "  for idx in sample_id2idxs[sample_id]:\n",
    "    start_logit = start_logits[idx] # (384,) vector\n",
    "    end_logit = end_logits[idx] # (384,) vector\n",
    "    offsets = small_validation_processed[idx]['offset_mapping']\n",
    "\n",
    "    start_indices = (-start_logit).argsort()\n",
    "    end_indices = (-end_logit).argsort()\n",
    "\n",
    "    for start_idx in start_indices[:n_largest]:\n",
    "      for end_idx in end_indices[:n_largest]:\n",
    "\n",
    "        # skip answers not contained in context window\n",
    "        # recall: we set entries not pertaining to context to None earlier\n",
    "        if offsets[start_idx] is None or offsets[end_idx] is None:\n",
    "          continue\n",
    "        \n",
    "        # skip answers where end < start\n",
    "        if end_idx < start_idx:\n",
    "          continue\n",
    "        \n",
    "        # skip answers that are too long\n",
    "        if end_idx - start_idx + 1 > max_answer_length:\n",
    "          continue\n",
    "        \n",
    "        # see theory lecture for score calculation\n",
    "        score = start_logit[start_idx] + end_logit[end_idx]\n",
    "        if score > best_score:\n",
    "          best_score = score\n",
    "\n",
    "          # find positions of start and end characters\n",
    "          # recall: offsets contains tuples for each token:\n",
    "          # (start_char, end_char)\n",
    "          first_ch = offsets[start_idx][0]\n",
    "          last_ch = offsets[end_idx][1]\n",
    "\n",
    "          best_answer = context[first_ch:last_ch]\n",
    "\n",
    "  # save best answer\n",
    "  predicted_answers.append({'id': sample_id, 'prediction_text': best_answer})"
   ]
  },
  {
   "cell_type": "code",
   "execution_count": null,
   "metadata": {},
   "outputs": [
    {
     "data": {
      "text/plain": [
       "{'text': ['Denver Broncos', 'Denver Broncos', 'Denver Broncos'],\n",
       " 'answer_start': [177, 177, 177]}"
      ]
     },
     "execution_count": 57,
     "metadata": {},
     "output_type": "execute_result"
    }
   ],
   "source": [
    "small_validation_dataset['answers'][0]"
   ]
  },
  {
   "cell_type": "code",
   "execution_count": null,
   "metadata": {},
   "outputs": [
    {
     "data": {
      "text/plain": [
       "{'exact_match': 83.0, 'f1': 88.25000000000004}"
      ]
     },
     "execution_count": 58,
     "metadata": {},
     "output_type": "execute_result"
    }
   ],
   "source": [
    "# now test it!\n",
    "\n",
    "true_answers = [\n",
    "  {'id': x['id'], 'answers': x['answers']} for x in small_validation_dataset\n",
    "]\n",
    "metric.compute(predictions=predicted_answers, references=true_answers)"
   ]
  },
  {
   "cell_type": "code",
   "execution_count": null,
   "metadata": {},
   "outputs": [],
   "source": [
    "# now let's define a full compute_metrics function\n",
    "# note: this will NOT be called from the trainer\n",
    "\n",
    "from tqdm.autonotebook import tqdm\n",
    "\n",
    "def compute_metrics(start_logits, end_logits, processed_dataset, orig_dataset):\n",
    "  # map sample_id ('56be4db0acb8001400a502ec') to row indices of processed data\n",
    "  sample_id2idxs = {}\n",
    "  for i, id_ in enumerate(processed_dataset['sample_id']):\n",
    "    if id_ not in sample_id2idxs:\n",
    "      sample_id2idxs[id_] = [i]\n",
    "    else:\n",
    "      sample_id2idxs[id_].append(i)\n",
    "\n",
    "  predicted_answers = []\n",
    "  for sample in tqdm(orig_dataset):\n",
    "\n",
    "    sample_id = sample['id']\n",
    "    context = sample['context']\n",
    "\n",
    "    # update these as we loop through candidate answers\n",
    "    best_score = float('-inf')\n",
    "    best_answer = None\n",
    "\n",
    "    # now loop through the *expanded* input samples (fixed size context windows)\n",
    "    # from here we will pick the highest probability start/end combination\n",
    "    for idx in sample_id2idxs[sample_id]:\n",
    "      start_logit = start_logits[idx] # (T,) vector\n",
    "      end_logit = end_logits[idx] # (T,) vector\n",
    "\n",
    "      # note: do NOT do the reverse: ['offset_mapping'][idx]\n",
    "      offsets = processed_dataset[idx]['offset_mapping']\n",
    "\n",
    "      start_indices = (-start_logit).argsort()\n",
    "      end_indices = (-end_logit).argsort()\n",
    "\n",
    "      for start_idx in start_indices[:n_largest]:\n",
    "        for end_idx in end_indices[:n_largest]:\n",
    "\n",
    "          # skip answers not contained in context window\n",
    "          # recall: we set entries not pertaining to context to None earlier\n",
    "          if offsets[start_idx] is None or offsets[end_idx] is None:\n",
    "            continue\n",
    "          \n",
    "          # skip answers where end < start\n",
    "          if end_idx < start_idx:\n",
    "            continue\n",
    "          \n",
    "          # skip answers that are too long\n",
    "          if end_idx - start_idx + 1 > max_answer_length:\n",
    "            continue\n",
    "          \n",
    "          # see theory lecture for score calculation\n",
    "          score = start_logit[start_idx] + end_logit[end_idx]\n",
    "          if score > best_score:\n",
    "            best_score = score\n",
    "\n",
    "            # find positions of start and end characters\n",
    "            # recall: offsets contains tuples for each token:\n",
    "            # (start_char, end_char)\n",
    "            first_ch = offsets[start_idx][0]\n",
    "            last_ch = offsets[end_idx][1]\n",
    "\n",
    "            best_answer = context[first_ch:last_ch]\n",
    "\n",
    "    # save best answer\n",
    "    predicted_answers.append({'id': sample_id, 'prediction_text': best_answer})\n",
    "  \n",
    "  # compute the metrics\n",
    "  true_answers = [\n",
    "    {'id': x['id'], 'answers': x['answers']} for x in orig_dataset\n",
    "  ]\n",
    "  return metric.compute(predictions=predicted_answers, references=true_answers)"
   ]
  },
  {
   "cell_type": "code",
   "execution_count": null,
   "metadata": {},
   "outputs": [
    {
     "name": "stderr",
     "output_type": "stream",
     "text": [
      "100%|██████████| 100/100 [00:00<00:00, 657.89it/s]"
     ]
    },
    {
     "name": "stderr",
     "output_type": "stream",
     "text": [
      "\n"
     ]
    },
    {
     "data": {
      "text/plain": [
       "{'exact_match': 83.0, 'f1': 88.25000000000004}"
      ]
     },
     "execution_count": 60,
     "metadata": {},
     "output_type": "execute_result"
    }
   ],
   "source": [
    "# run our function on the same mini dataset as before\n",
    "compute_metrics(\n",
    "    start_logits,\n",
    "    end_logits,\n",
    "    small_validation_processed,\n",
    "    small_validation_dataset,\n",
    ")"
   ]
  },
  {
   "cell_type": "code",
   "execution_count": null,
   "metadata": {},
   "outputs": [
    {
     "name": "stderr",
     "output_type": "stream",
     "text": [
      "Some weights of DistilBertForQuestionAnswering were not initialized from the model checkpoint at distilbert-base-cased and are newly initialized: ['qa_outputs.bias', 'qa_outputs.weight']\n",
      "You should probably TRAIN this model on a down-stream task to be able to use it for predictions and inference.\n"
     ]
    }
   ],
   "source": [
    "# now load the model we want to fine-tune\n",
    "model = AutoModelForQuestionAnswering.from_pretrained(model_checkpoint)"
   ]
  },
  {
   "cell_type": "code",
   "execution_count": null,
   "metadata": {},
   "outputs": [
    {
     "data": {
      "text/plain": [
       "DistilBertForQuestionAnswering(\n",
       "  (distilbert): DistilBertModel(\n",
       "    (embeddings): Embeddings(\n",
       "      (word_embeddings): Embedding(28996, 768, padding_idx=0)\n",
       "      (position_embeddings): Embedding(512, 768)\n",
       "      (LayerNorm): LayerNorm((768,), eps=1e-12, elementwise_affine=True)\n",
       "      (dropout): Dropout(p=0.1, inplace=False)\n",
       "    )\n",
       "    (transformer): Transformer(\n",
       "      (layer): ModuleList(\n",
       "        (0-5): 6 x TransformerBlock(\n",
       "          (attention): MultiHeadSelfAttention(\n",
       "            (dropout): Dropout(p=0.1, inplace=False)\n",
       "            (q_lin): Linear(in_features=768, out_features=768, bias=True)\n",
       "            (k_lin): Linear(in_features=768, out_features=768, bias=True)\n",
       "            (v_lin): Linear(in_features=768, out_features=768, bias=True)\n",
       "            (out_lin): Linear(in_features=768, out_features=768, bias=True)\n",
       "          )\n",
       "          (sa_layer_norm): LayerNorm((768,), eps=1e-12, elementwise_affine=True)\n",
       "          (ffn): FFN(\n",
       "            (dropout): Dropout(p=0.1, inplace=False)\n",
       "            (lin1): Linear(in_features=768, out_features=3072, bias=True)\n",
       "            (lin2): Linear(in_features=3072, out_features=768, bias=True)\n",
       "            (activation): GELUActivation()\n",
       "          )\n",
       "          (output_layer_norm): LayerNorm((768,), eps=1e-12, elementwise_affine=True)\n",
       "        )\n",
       "      )\n",
       "    )\n",
       "  )\n",
       "  (qa_outputs): Linear(in_features=768, out_features=2, bias=True)\n",
       "  (dropout): Dropout(p=0.1, inplace=False)\n",
       ")"
      ]
     },
     "execution_count": 62,
     "metadata": {},
     "output_type": "execute_result"
    }
   ],
   "source": [
    "model"
   ]
  },
  {
   "cell_type": "code",
   "execution_count": null,
   "metadata": {},
   "outputs": [
    {
     "ename": "ImportError",
     "evalue": "Using the `Trainer` with `PyTorch` requires `accelerate>=0.20.1`: Please run `pip install transformers[torch]` or `pip install accelerate -U`",
     "output_type": "error",
     "traceback": [
      "\u001b[1;31m---------------------------------------------------------------------------\u001b[0m",
      "\u001b[1;31mImportError\u001b[0m                               Traceback (most recent call last)",
      "\u001b[1;32mc:\\Users\\Nilofar\\Desktop\\Q-Answering_Lazyprogrammer\\QA1.ipynb Cell 62\u001b[0m line \u001b[0;36m3\n\u001b[0;32m      <a href='vscode-notebook-cell:/c%3A/Users/Nilofar/Desktop/Q-Answering_Lazyprogrammer/QA1.ipynb#Y115sZmlsZQ%3D%3D?line=0'>1</a>\u001b[0m \u001b[39mfrom\u001b[39;00m \u001b[39mtransformers\u001b[39;00m \u001b[39mimport\u001b[39;00m TrainingArguments\n\u001b[1;32m----> <a href='vscode-notebook-cell:/c%3A/Users/Nilofar/Desktop/Q-Answering_Lazyprogrammer/QA1.ipynb#Y115sZmlsZQ%3D%3D?line=2'>3</a>\u001b[0m args \u001b[39m=\u001b[39m TrainingArguments(\n\u001b[0;32m      <a href='vscode-notebook-cell:/c%3A/Users/Nilofar/Desktop/Q-Answering_Lazyprogrammer/QA1.ipynb#Y115sZmlsZQ%3D%3D?line=3'>4</a>\u001b[0m     \u001b[39m\"\u001b[39;49m\u001b[39mfinetuned-squad\u001b[39;49m\u001b[39m\"\u001b[39;49m,\n\u001b[0;32m      <a href='vscode-notebook-cell:/c%3A/Users/Nilofar/Desktop/Q-Answering_Lazyprogrammer/QA1.ipynb#Y115sZmlsZQ%3D%3D?line=4'>5</a>\u001b[0m     evaluation_strategy\u001b[39m=\u001b[39;49m\u001b[39m\"\u001b[39;49m\u001b[39mno\u001b[39;49m\u001b[39m\"\u001b[39;49m,\n\u001b[0;32m      <a href='vscode-notebook-cell:/c%3A/Users/Nilofar/Desktop/Q-Answering_Lazyprogrammer/QA1.ipynb#Y115sZmlsZQ%3D%3D?line=5'>6</a>\u001b[0m     save_strategy\u001b[39m=\u001b[39;49m\u001b[39m\"\u001b[39;49m\u001b[39mepoch\u001b[39;49m\u001b[39m\"\u001b[39;49m,\n\u001b[0;32m      <a href='vscode-notebook-cell:/c%3A/Users/Nilofar/Desktop/Q-Answering_Lazyprogrammer/QA1.ipynb#Y115sZmlsZQ%3D%3D?line=6'>7</a>\u001b[0m     learning_rate\u001b[39m=\u001b[39;49m\u001b[39m2e-5\u001b[39;49m,\n\u001b[0;32m      <a href='vscode-notebook-cell:/c%3A/Users/Nilofar/Desktop/Q-Answering_Lazyprogrammer/QA1.ipynb#Y115sZmlsZQ%3D%3D?line=7'>8</a>\u001b[0m     num_train_epochs\u001b[39m=\u001b[39;49m\u001b[39m3\u001b[39;49m,\n\u001b[0;32m      <a href='vscode-notebook-cell:/c%3A/Users/Nilofar/Desktop/Q-Answering_Lazyprogrammer/QA1.ipynb#Y115sZmlsZQ%3D%3D?line=8'>9</a>\u001b[0m     weight_decay\u001b[39m=\u001b[39;49m\u001b[39m0.01\u001b[39;49m,\n\u001b[0;32m     <a href='vscode-notebook-cell:/c%3A/Users/Nilofar/Desktop/Q-Answering_Lazyprogrammer/QA1.ipynb#Y115sZmlsZQ%3D%3D?line=9'>10</a>\u001b[0m     fp16\u001b[39m=\u001b[39;49m\u001b[39mTrue\u001b[39;49;00m,\n\u001b[0;32m     <a href='vscode-notebook-cell:/c%3A/Users/Nilofar/Desktop/Q-Answering_Lazyprogrammer/QA1.ipynb#Y115sZmlsZQ%3D%3D?line=10'>11</a>\u001b[0m )\n",
      "File \u001b[1;32m<string>:114\u001b[0m, in \u001b[0;36m__init__\u001b[1;34m(self, output_dir, overwrite_output_dir, do_train, do_eval, do_predict, evaluation_strategy, prediction_loss_only, per_device_train_batch_size, per_device_eval_batch_size, per_gpu_train_batch_size, per_gpu_eval_batch_size, gradient_accumulation_steps, eval_accumulation_steps, eval_delay, learning_rate, weight_decay, adam_beta1, adam_beta2, adam_epsilon, max_grad_norm, num_train_epochs, max_steps, lr_scheduler_type, warmup_ratio, warmup_steps, log_level, log_level_replica, log_on_each_node, logging_dir, logging_strategy, logging_first_step, logging_steps, logging_nan_inf_filter, save_strategy, save_steps, save_total_limit, save_safetensors, save_on_each_node, no_cuda, use_cpu, use_mps_device, seed, data_seed, jit_mode_eval, use_ipex, bf16, fp16, fp16_opt_level, half_precision_backend, bf16_full_eval, fp16_full_eval, tf32, local_rank, ddp_backend, tpu_num_cores, tpu_metrics_debug, debug, dataloader_drop_last, eval_steps, dataloader_num_workers, past_index, run_name, disable_tqdm, remove_unused_columns, label_names, load_best_model_at_end, metric_for_best_model, greater_is_better, ignore_data_skip, sharded_ddp, fsdp, fsdp_min_num_params, fsdp_config, fsdp_transformer_layer_cls_to_wrap, deepspeed, label_smoothing_factor, optim, optim_args, adafactor, group_by_length, length_column_name, report_to, ddp_find_unused_parameters, ddp_bucket_cap_mb, ddp_broadcast_buffers, dataloader_pin_memory, skip_memory_metrics, use_legacy_prediction_loop, push_to_hub, resume_from_checkpoint, hub_model_id, hub_strategy, hub_token, hub_private_repo, hub_always_push, gradient_checkpointing, include_inputs_for_metrics, fp16_backend, push_to_hub_model_id, push_to_hub_organization, push_to_hub_token, mp_parameters, auto_find_batch_size, full_determinism, torchdynamo, ray_scope, ddp_timeout, torch_compile, torch_compile_backend, torch_compile_mode, dispatch_batches)\u001b[0m\n",
      "File \u001b[1;32mc:\\Python311\\Lib\\site-packages\\transformers\\training_args.py:1405\u001b[0m, in \u001b[0;36mTrainingArguments.__post_init__\u001b[1;34m(self)\u001b[0m\n\u001b[0;32m   1399\u001b[0m     \u001b[39mif\u001b[39;00m version\u001b[39m.\u001b[39mparse(version\u001b[39m.\u001b[39mparse(torch\u001b[39m.\u001b[39m__version__)\u001b[39m.\u001b[39mbase_version) \u001b[39m==\u001b[39m version\u001b[39m.\u001b[39mparse(\u001b[39m\"\u001b[39m\u001b[39m2.0.0\u001b[39m\u001b[39m\"\u001b[39m) \u001b[39mand\u001b[39;00m \u001b[39mself\u001b[39m\u001b[39m.\u001b[39mfp16:\n\u001b[0;32m   1400\u001b[0m         \u001b[39mraise\u001b[39;00m \u001b[39mValueError\u001b[39;00m(\u001b[39m\"\u001b[39m\u001b[39m--optim adamw_torch_fused with --fp16 requires PyTorch>2.0\u001b[39m\u001b[39m\"\u001b[39m)\n\u001b[0;32m   1402\u001b[0m \u001b[39mif\u001b[39;00m (\n\u001b[0;32m   1403\u001b[0m     \u001b[39mself\u001b[39m\u001b[39m.\u001b[39mframework \u001b[39m==\u001b[39m \u001b[39m\"\u001b[39m\u001b[39mpt\u001b[39m\u001b[39m\"\u001b[39m\n\u001b[0;32m   1404\u001b[0m     \u001b[39mand\u001b[39;00m is_torch_available()\n\u001b[1;32m-> 1405\u001b[0m     \u001b[39mand\u001b[39;00m (\u001b[39mself\u001b[39;49m\u001b[39m.\u001b[39;49mdevice\u001b[39m.\u001b[39mtype \u001b[39m!=\u001b[39m \u001b[39m\"\u001b[39m\u001b[39mcuda\u001b[39m\u001b[39m\"\u001b[39m)\n\u001b[0;32m   1406\u001b[0m     \u001b[39mand\u001b[39;00m (\u001b[39mself\u001b[39m\u001b[39m.\u001b[39mdevice\u001b[39m.\u001b[39mtype \u001b[39m!=\u001b[39m \u001b[39m\"\u001b[39m\u001b[39mnpu\u001b[39m\u001b[39m\"\u001b[39m)\n\u001b[0;32m   1407\u001b[0m     \u001b[39mand\u001b[39;00m (get_xla_device_type(\u001b[39mself\u001b[39m\u001b[39m.\u001b[39mdevice) \u001b[39m!=\u001b[39m \u001b[39m\"\u001b[39m\u001b[39mGPU\u001b[39m\u001b[39m\"\u001b[39m)\n\u001b[0;32m   1408\u001b[0m     \u001b[39mand\u001b[39;00m (\u001b[39mself\u001b[39m\u001b[39m.\u001b[39mfp16 \u001b[39mor\u001b[39;00m \u001b[39mself\u001b[39m\u001b[39m.\u001b[39mfp16_full_eval)\n\u001b[0;32m   1409\u001b[0m ):\n\u001b[0;32m   1410\u001b[0m     \u001b[39mraise\u001b[39;00m \u001b[39mValueError\u001b[39;00m(\n\u001b[0;32m   1411\u001b[0m         \u001b[39m\"\u001b[39m\u001b[39mFP16 Mixed precision training with AMP or APEX (`--fp16`) and FP16 half precision evaluation\u001b[39m\u001b[39m\"\u001b[39m\n\u001b[0;32m   1412\u001b[0m         \u001b[39m\"\u001b[39m\u001b[39m (`--fp16_full_eval`) can only be used on CUDA or NPU devices.\u001b[39m\u001b[39m\"\u001b[39m\n\u001b[0;32m   1413\u001b[0m     )\n\u001b[0;32m   1415\u001b[0m \u001b[39mif\u001b[39;00m (\n\u001b[0;32m   1416\u001b[0m     \u001b[39mself\u001b[39m\u001b[39m.\u001b[39mframework \u001b[39m==\u001b[39m \u001b[39m\"\u001b[39m\u001b[39mpt\u001b[39m\u001b[39m\"\u001b[39m\n\u001b[0;32m   1417\u001b[0m     \u001b[39mand\u001b[39;00m is_torch_available()\n\u001b[1;32m   (...)\u001b[0m\n\u001b[0;32m   1422\u001b[0m     \u001b[39mand\u001b[39;00m (\u001b[39mself\u001b[39m\u001b[39m.\u001b[39mbf16 \u001b[39mor\u001b[39;00m \u001b[39mself\u001b[39m\u001b[39m.\u001b[39mbf16_full_eval)\n\u001b[0;32m   1423\u001b[0m ):\n",
      "File \u001b[1;32mc:\\Python311\\Lib\\site-packages\\transformers\\training_args.py:1852\u001b[0m, in \u001b[0;36mTrainingArguments.device\u001b[1;34m(self)\u001b[0m\n\u001b[0;32m   1848\u001b[0m \u001b[39m\u001b[39m\u001b[39m\"\"\"\u001b[39;00m\n\u001b[0;32m   1849\u001b[0m \u001b[39mThe device used by this process.\u001b[39;00m\n\u001b[0;32m   1850\u001b[0m \u001b[39m\"\"\"\u001b[39;00m\n\u001b[0;32m   1851\u001b[0m requires_backends(\u001b[39mself\u001b[39m, [\u001b[39m\"\u001b[39m\u001b[39mtorch\u001b[39m\u001b[39m\"\u001b[39m])\n\u001b[1;32m-> 1852\u001b[0m \u001b[39mreturn\u001b[39;00m \u001b[39mself\u001b[39;49m\u001b[39m.\u001b[39;49m_setup_devices\n",
      "File \u001b[1;32mc:\\Python311\\Lib\\site-packages\\transformers\\utils\\generic.py:54\u001b[0m, in \u001b[0;36mcached_property.__get__\u001b[1;34m(self, obj, objtype)\u001b[0m\n\u001b[0;32m     52\u001b[0m cached \u001b[39m=\u001b[39m \u001b[39mgetattr\u001b[39m(obj, attr, \u001b[39mNone\u001b[39;00m)\n\u001b[0;32m     53\u001b[0m \u001b[39mif\u001b[39;00m cached \u001b[39mis\u001b[39;00m \u001b[39mNone\u001b[39;00m:\n\u001b[1;32m---> 54\u001b[0m     cached \u001b[39m=\u001b[39m \u001b[39mself\u001b[39;49m\u001b[39m.\u001b[39;49mfget(obj)\n\u001b[0;32m     55\u001b[0m     \u001b[39msetattr\u001b[39m(obj, attr, cached)\n\u001b[0;32m     56\u001b[0m \u001b[39mreturn\u001b[39;00m cached\n",
      "File \u001b[1;32mc:\\Python311\\Lib\\site-packages\\transformers\\training_args.py:1767\u001b[0m, in \u001b[0;36mTrainingArguments._setup_devices\u001b[1;34m(self)\u001b[0m\n\u001b[0;32m   1765\u001b[0m \u001b[39mif\u001b[39;00m \u001b[39mnot\u001b[39;00m is_sagemaker_mp_enabled():\n\u001b[0;32m   1766\u001b[0m     \u001b[39mif\u001b[39;00m \u001b[39mnot\u001b[39;00m is_accelerate_available(min_version\u001b[39m=\u001b[39m\u001b[39m\"\u001b[39m\u001b[39m0.20.1\u001b[39m\u001b[39m\"\u001b[39m):\n\u001b[1;32m-> 1767\u001b[0m         \u001b[39mraise\u001b[39;00m \u001b[39mImportError\u001b[39;00m(\n\u001b[0;32m   1768\u001b[0m             \u001b[39m\"\u001b[39m\u001b[39mUsing the `Trainer` with `PyTorch` requires `accelerate>=0.20.1`: Please run `pip install transformers[torch]` or `pip install accelerate -U`\u001b[39m\u001b[39m\"\u001b[39m\n\u001b[0;32m   1769\u001b[0m         )\n\u001b[0;32m   1770\u001b[0m     AcceleratorState\u001b[39m.\u001b[39m_reset_state(reset_partial_state\u001b[39m=\u001b[39m\u001b[39mTrue\u001b[39;00m)\n\u001b[0;32m   1771\u001b[0m \u001b[39mself\u001b[39m\u001b[39m.\u001b[39mdistributed_state \u001b[39m=\u001b[39m \u001b[39mNone\u001b[39;00m\n",
      "\u001b[1;31mImportError\u001b[0m: Using the `Trainer` with `PyTorch` requires `accelerate>=0.20.1`: Please run `pip install transformers[torch]` or `pip install accelerate -U`"
     ]
    }
   ],
   "source": [
    "from transformers import TrainingArguments\n",
    "\n",
    "args = TrainingArguments(\n",
    "    \"finetuned-squad\",\n",
    "    evaluation_strategy=\"no\",\n",
    "    save_strategy=\"epoch\",\n",
    "    learning_rate=2e-5,\n",
    "    num_train_epochs=3,\n",
    "    weight_decay=0.01,\n",
    "    fp16=True,\n",
    ")"
   ]
  },
  {
   "cell_type": "code",
   "execution_count": null,
   "metadata": {},
   "outputs": [],
   "source": []
  }
 ],
 "metadata": {
  "kernelspec": {
   "display_name": "Python 3",
   "language": "python",
   "name": "python3"
  },
  "language_info": {
   "codemirror_mode": {
    "name": "ipython",
    "version": 3
   },
   "file_extension": ".py",
   "mimetype": "text/x-python",
   "name": "python",
   "nbconvert_exporter": "python",
   "pygments_lexer": "ipython3",
   "version": "3.11.4"
  },
  "orig_nbformat": 4
 },
 "nbformat": 4,
 "nbformat_minor": 2
}
